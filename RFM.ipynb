{
 "cells": [
  {
   "cell_type": "markdown",
   "id": "a50832bd",
   "metadata": {},
   "source": [
    "# RFM Model\n",
    "\n",
    "## What is Recency, Frequency, Monetary Value (RFM)?\n",
    "\n",
    "RFM Model helps understand who are top-tiered customers and who aren’t. The framework can help categorize data. \n",
    "\n",
    "Recency, frequency, monetary value is a marketing analysis tool used to identify a company's or organization's best cutomers by using certain measuers. Metrics are generally on a scale of 1 to 5 (the higher the number, the better the result). The \"best\" customer would receive a top score in every category.\n",
    "\n",
    "**The RFM model is based on three quantitative factors:**\n",
    "\n",
    "1. Recency: How recently a customer has made a purchase\n",
    "\n",
    "2. Frequency: How often a customer makes a purchase.\n",
    "\n",
    "3. Monetary: How much money a customer spends on purchases RFM analysis numberically.\n"
   ]
  },
  {
   "cell_type": "markdown",
   "id": "29baabe4",
   "metadata": {},
   "source": [
    "\n"
   ]
  },
  {
   "cell_type": "markdown",
   "id": "b484e684",
   "metadata": {},
   "source": [
    "### Agenda \n",
    "1. Calculate the RFM for each customer ID (Behavior segmentation by 3 important features)\n",
    "2. Do the plotting and check three category\n",
    "3. Create RFM Segmentation based on either quantile or designed by users\n",
    "4. create the RFM Class and RFM Score\n",
    "5. Assigned each user to particular market actions\n",
    "6. Business recommendation for each customer"
   ]
  },
  {
   "cell_type": "code",
   "execution_count": 1,
   "id": "32d08e6d",
   "metadata": {},
   "outputs": [],
   "source": [
    "import pandas as pd\n",
    "from datetime import datetime, timedelta\n",
    "import matplotlib.pyplot as plt \n",
    "import seaborn as sns "
   ]
  },
  {
   "cell_type": "markdown",
   "id": "8cb2cda0",
   "metadata": {},
   "source": [
    "## Input Data\n",
    "\n",
    "UCI machine learning \n",
    "\n",
    "Dataset reference: http://archive.ics.uci.edu/ml/datasets/Online+Retail+II"
   ]
  },
  {
   "cell_type": "code",
   "execution_count": 2,
   "id": "e998138c",
   "metadata": {},
   "outputs": [],
   "source": [
    "online_retail_df = pd.read_csv(\"online_retail_II.csv\")"
   ]
  },
  {
   "cell_type": "code",
   "execution_count": 3,
   "id": "07183fef",
   "metadata": {},
   "outputs": [
    {
     "data": {
      "text/html": [
       "<div>\n",
       "<style scoped>\n",
       "    .dataframe tbody tr th:only-of-type {\n",
       "        vertical-align: middle;\n",
       "    }\n",
       "\n",
       "    .dataframe tbody tr th {\n",
       "        vertical-align: top;\n",
       "    }\n",
       "\n",
       "    .dataframe thead th {\n",
       "        text-align: right;\n",
       "    }\n",
       "</style>\n",
       "<table border=\"1\" class=\"dataframe\">\n",
       "  <thead>\n",
       "    <tr style=\"text-align: right;\">\n",
       "      <th></th>\n",
       "      <th>Invoice</th>\n",
       "      <th>StockCode</th>\n",
       "      <th>Description</th>\n",
       "      <th>Quantity</th>\n",
       "      <th>InvoiceDate</th>\n",
       "      <th>Price</th>\n",
       "      <th>Customer ID</th>\n",
       "      <th>Country</th>\n",
       "    </tr>\n",
       "  </thead>\n",
       "  <tbody>\n",
       "    <tr>\n",
       "      <th>0</th>\n",
       "      <td>536365</td>\n",
       "      <td>85123A</td>\n",
       "      <td>WHITE HANGING HEART T-LIGHT HOLDER</td>\n",
       "      <td>6</td>\n",
       "      <td>2010/12/1 8:26</td>\n",
       "      <td>2.55</td>\n",
       "      <td>17850.0</td>\n",
       "      <td>United Kingdom</td>\n",
       "    </tr>\n",
       "    <tr>\n",
       "      <th>1</th>\n",
       "      <td>536365</td>\n",
       "      <td>71053</td>\n",
       "      <td>WHITE METAL LANTERN</td>\n",
       "      <td>6</td>\n",
       "      <td>2010/12/1 8:26</td>\n",
       "      <td>3.39</td>\n",
       "      <td>17850.0</td>\n",
       "      <td>United Kingdom</td>\n",
       "    </tr>\n",
       "    <tr>\n",
       "      <th>2</th>\n",
       "      <td>536365</td>\n",
       "      <td>84406B</td>\n",
       "      <td>CREAM CUPID HEARTS COAT HANGER</td>\n",
       "      <td>8</td>\n",
       "      <td>2010/12/1 8:26</td>\n",
       "      <td>2.75</td>\n",
       "      <td>17850.0</td>\n",
       "      <td>United Kingdom</td>\n",
       "    </tr>\n",
       "    <tr>\n",
       "      <th>3</th>\n",
       "      <td>536365</td>\n",
       "      <td>84029G</td>\n",
       "      <td>KNITTED UNION FLAG HOT WATER BOTTLE</td>\n",
       "      <td>6</td>\n",
       "      <td>2010/12/1 8:26</td>\n",
       "      <td>3.39</td>\n",
       "      <td>17850.0</td>\n",
       "      <td>United Kingdom</td>\n",
       "    </tr>\n",
       "    <tr>\n",
       "      <th>4</th>\n",
       "      <td>536365</td>\n",
       "      <td>84029E</td>\n",
       "      <td>RED WOOLLY HOTTIE WHITE HEART.</td>\n",
       "      <td>6</td>\n",
       "      <td>2010/12/1 8:26</td>\n",
       "      <td>3.39</td>\n",
       "      <td>17850.0</td>\n",
       "      <td>United Kingdom</td>\n",
       "    </tr>\n",
       "  </tbody>\n",
       "</table>\n",
       "</div>"
      ],
      "text/plain": [
       "  Invoice StockCode                          Description  Quantity  \\\n",
       "0  536365    85123A   WHITE HANGING HEART T-LIGHT HOLDER         6   \n",
       "1  536365     71053                  WHITE METAL LANTERN         6   \n",
       "2  536365    84406B       CREAM CUPID HEARTS COAT HANGER         8   \n",
       "3  536365    84029G  KNITTED UNION FLAG HOT WATER BOTTLE         6   \n",
       "4  536365    84029E       RED WOOLLY HOTTIE WHITE HEART.         6   \n",
       "\n",
       "      InvoiceDate  Price  Customer ID         Country  \n",
       "0  2010/12/1 8:26   2.55      17850.0  United Kingdom  \n",
       "1  2010/12/1 8:26   3.39      17850.0  United Kingdom  \n",
       "2  2010/12/1 8:26   2.75      17850.0  United Kingdom  \n",
       "3  2010/12/1 8:26   3.39      17850.0  United Kingdom  \n",
       "4  2010/12/1 8:26   3.39      17850.0  United Kingdom  "
      ]
     },
     "execution_count": 3,
     "metadata": {},
     "output_type": "execute_result"
    }
   ],
   "source": [
    "online_retail_df.head()"
   ]
  },
  {
   "cell_type": "code",
   "execution_count": 4,
   "id": "b1491c38",
   "metadata": {},
   "outputs": [],
   "source": [
    "# 1. calculate the R F M for each customer Id (Behavior segmentation by 3 importatn features)\n",
    "# 2. do the plotting and check each three category\n",
    "# 3. creating RFM segmentation based on the criteria - can either designed by user / or based on the percentage \n",
    "#    calculate quantiles, and if higher than the quantiles the segment the user\n",
    "# 4. concating the value together -> creating RFM segmentation\n",
    "\n",
    "# Business analysis | Identify Upselling and cross selling opportunities"
   ]
  },
  {
   "cell_type": "code",
   "execution_count": 5,
   "id": "81e63ed0",
   "metadata": {},
   "outputs": [
    {
     "name": "stdout",
     "output_type": "stream",
     "text": [
      "<class 'pandas.core.frame.DataFrame'>\n",
      "RangeIndex: 541910 entries, 0 to 541909\n",
      "Data columns (total 8 columns):\n",
      " #   Column       Non-Null Count   Dtype  \n",
      "---  ------       --------------   -----  \n",
      " 0   Invoice      541910 non-null  object \n",
      " 1   StockCode    541910 non-null  object \n",
      " 2   Description  540456 non-null  object \n",
      " 3   Quantity     541910 non-null  int64  \n",
      " 4   InvoiceDate  541910 non-null  object \n",
      " 5   Price        541910 non-null  float64\n",
      " 6   Customer ID  406830 non-null  float64\n",
      " 7   Country      541910 non-null  object \n",
      "dtypes: float64(2), int64(1), object(5)\n",
      "memory usage: 33.1+ MB\n"
     ]
    }
   ],
   "source": [
    "online_retail_df.info()"
   ]
  },
  {
   "cell_type": "code",
   "execution_count": 6,
   "id": "40a78648",
   "metadata": {},
   "outputs": [],
   "source": [
    "online_retail_df['InvoiceDate'] = pd.to_datetime(online_retail_df['InvoiceDate'])"
   ]
  },
  {
   "cell_type": "code",
   "execution_count": 7,
   "id": "4f8ab144",
   "metadata": {},
   "outputs": [],
   "source": [
    "current_date = online_retail_df['InvoiceDate'].max() + timedelta(days=1)\n",
    "online_retail_df['Customer ID'] = online_retail_df['Customer ID'].astype(str)"
   ]
  },
  {
   "cell_type": "code",
   "execution_count": 8,
   "id": "23ae5c06",
   "metadata": {},
   "outputs": [
    {
     "name": "stdout",
     "output_type": "stream",
     "text": [
      "<class 'pandas.core.frame.DataFrame'>\n",
      "RangeIndex: 541910 entries, 0 to 541909\n",
      "Data columns (total 8 columns):\n",
      " #   Column       Non-Null Count   Dtype         \n",
      "---  ------       --------------   -----         \n",
      " 0   Invoice      541910 non-null  object        \n",
      " 1   StockCode    541910 non-null  object        \n",
      " 2   Description  540456 non-null  object        \n",
      " 3   Quantity     541910 non-null  int64         \n",
      " 4   InvoiceDate  541910 non-null  datetime64[ns]\n",
      " 5   Price        541910 non-null  float64       \n",
      " 6   Customer ID  541910 non-null  object        \n",
      " 7   Country      541910 non-null  object        \n",
      "dtypes: datetime64[ns](1), float64(1), int64(1), object(5)\n",
      "memory usage: 33.1+ MB\n"
     ]
    }
   ],
   "source": [
    "online_retail_df.info()"
   ]
  },
  {
   "cell_type": "code",
   "execution_count": 9,
   "id": "3ef6715e",
   "metadata": {},
   "outputs": [
    {
     "data": {
      "text/plain": [
       "4373"
      ]
     },
     "execution_count": 9,
     "metadata": {},
     "output_type": "execute_result"
    }
   ],
   "source": [
    "len(online_retail_df['Customer ID'].unique())"
   ]
  },
  {
   "cell_type": "code",
   "execution_count": 10,
   "id": "3b19e6c8",
   "metadata": {},
   "outputs": [],
   "source": [
    "# online_retail_df['InvoiceDate'] = online_retail_df['InvoiceDate'].apply(\n",
    "#     lambda x: datetime.strftime(x, '%Y-%m-%d'))"
   ]
  },
  {
   "cell_type": "code",
   "execution_count": 11,
   "id": "8d50218e",
   "metadata": {},
   "outputs": [
    {
     "name": "stdout",
     "output_type": "stream",
     "text": [
      "Online Retail Data:\n",
      "541910 rows; 8 columns\n",
      "0 transactions don't have a customer id\n",
      "Transactions timeframe from 2010-12-01 08:26:00 to 2011-12-09 12:50:00\n"
     ]
    }
   ],
   "source": [
    "# check the dataframe\n",
    "print(\"Online Retail Data:\")\n",
    "print(f\"{online_retail_df.shape[0]} rows; {online_retail_df.shape[1]} columns\")\n",
    "print(f\"{online_retail_df['Customer ID'].isnull().sum()} transactions don\\'t have a customer id\")\n",
    "print(f\"Transactions timeframe from {online_retail_df['InvoiceDate'].min()} to {online_retail_df['InvoiceDate'].max()}\")"
   ]
  },
  {
   "cell_type": "markdown",
   "id": "19c9c554",
   "metadata": {},
   "source": [
    "## Calculate the values for Recency, Frequency, and Monetary\n",
    "\n",
    "Behavioral Segmentation by 3 important features"
   ]
  },
  {
   "cell_type": "code",
   "execution_count": 12,
   "id": "e17df81d",
   "metadata": {},
   "outputs": [],
   "source": [
    "# create the RFM table \n",
    "\n",
    "rfm_df = online_retail_df.groupby('Customer ID').agg({\n",
    "    'InvoiceDate': lambda x: (current_date - x.max()).days,\n",
    "    'Customer ID': 'count',\n",
    "    'Price': lambda x: x.sum()\n",
    "})\n",
    "\n",
    "rfm_df.rename(columns={\n",
    "    'InvoiceDate': 'Recency',\n",
    "    'Customer ID': 'Frequency',\n",
    "    'Price': 'Monetary'\n",
    "}, inplace = True)"
   ]
  },
  {
   "cell_type": "code",
   "execution_count": 13,
   "id": "e5ee1200",
   "metadata": {},
   "outputs": [
    {
     "name": "stdout",
     "output_type": "stream",
     "text": [
      "Validate the number of unique customer: 4373\n"
     ]
    },
    {
     "data": {
      "text/html": [
       "<div>\n",
       "<style scoped>\n",
       "    .dataframe tbody tr th:only-of-type {\n",
       "        vertical-align: middle;\n",
       "    }\n",
       "\n",
       "    .dataframe tbody tr th {\n",
       "        vertical-align: top;\n",
       "    }\n",
       "\n",
       "    .dataframe thead th {\n",
       "        text-align: right;\n",
       "    }\n",
       "</style>\n",
       "<table border=\"1\" class=\"dataframe\">\n",
       "  <thead>\n",
       "    <tr style=\"text-align: right;\">\n",
       "      <th></th>\n",
       "      <th>Recency</th>\n",
       "      <th>Frequency</th>\n",
       "      <th>Monetary</th>\n",
       "    </tr>\n",
       "    <tr>\n",
       "      <th>Customer ID</th>\n",
       "      <th></th>\n",
       "      <th></th>\n",
       "      <th></th>\n",
       "    </tr>\n",
       "  </thead>\n",
       "  <tbody>\n",
       "    <tr>\n",
       "      <th>12346.0</th>\n",
       "      <td>326</td>\n",
       "      <td>2</td>\n",
       "      <td>2.08</td>\n",
       "    </tr>\n",
       "    <tr>\n",
       "      <th>12347.0</th>\n",
       "      <td>2</td>\n",
       "      <td>182</td>\n",
       "      <td>481.21</td>\n",
       "    </tr>\n",
       "    <tr>\n",
       "      <th>12348.0</th>\n",
       "      <td>75</td>\n",
       "      <td>31</td>\n",
       "      <td>178.71</td>\n",
       "    </tr>\n",
       "    <tr>\n",
       "      <th>12349.0</th>\n",
       "      <td>19</td>\n",
       "      <td>73</td>\n",
       "      <td>605.10</td>\n",
       "    </tr>\n",
       "    <tr>\n",
       "      <th>12350.0</th>\n",
       "      <td>310</td>\n",
       "      <td>17</td>\n",
       "      <td>65.30</td>\n",
       "    </tr>\n",
       "    <tr>\n",
       "      <th>...</th>\n",
       "      <td>...</td>\n",
       "      <td>...</td>\n",
       "      <td>...</td>\n",
       "    </tr>\n",
       "    <tr>\n",
       "      <th>18281.0</th>\n",
       "      <td>181</td>\n",
       "      <td>7</td>\n",
       "      <td>39.36</td>\n",
       "    </tr>\n",
       "    <tr>\n",
       "      <th>18282.0</th>\n",
       "      <td>8</td>\n",
       "      <td>13</td>\n",
       "      <td>62.68</td>\n",
       "    </tr>\n",
       "    <tr>\n",
       "      <th>18283.0</th>\n",
       "      <td>4</td>\n",
       "      <td>756</td>\n",
       "      <td>1220.93</td>\n",
       "    </tr>\n",
       "    <tr>\n",
       "      <th>18287.0</th>\n",
       "      <td>43</td>\n",
       "      <td>70</td>\n",
       "      <td>104.55</td>\n",
       "    </tr>\n",
       "    <tr>\n",
       "      <th>nan</th>\n",
       "      <td>1</td>\n",
       "      <td>135080</td>\n",
       "      <td>1090984.01</td>\n",
       "    </tr>\n",
       "  </tbody>\n",
       "</table>\n",
       "<p>4373 rows × 3 columns</p>\n",
       "</div>"
      ],
      "text/plain": [
       "             Recency  Frequency    Monetary\n",
       "Customer ID                                \n",
       "12346.0          326          2        2.08\n",
       "12347.0            2        182      481.21\n",
       "12348.0           75         31      178.71\n",
       "12349.0           19         73      605.10\n",
       "12350.0          310         17       65.30\n",
       "...              ...        ...         ...\n",
       "18281.0          181          7       39.36\n",
       "18282.0            8         13       62.68\n",
       "18283.0            4        756     1220.93\n",
       "18287.0           43         70      104.55\n",
       "nan                1     135080  1090984.01\n",
       "\n",
       "[4373 rows x 3 columns]"
      ]
     },
     "execution_count": 13,
     "metadata": {},
     "output_type": "execute_result"
    }
   ],
   "source": [
    "print(\"Validate the number of unique customer:\", len(online_retail_df['Customer ID'].unique()))\n",
    "\n",
    "rfm_df"
   ]
  },
  {
   "cell_type": "markdown",
   "id": "5320c14d",
   "metadata": {},
   "source": [
    "Great, we have 4373 customer records by recency of their purchase, the frequency by their quantity, and the monetary value of the purchases. Before segmenting the customer to the relative percentile based on the RFM Features, we would examine the distribution of our R, F, and M and remove the outliers if needed."
   ]
  },
  {
   "cell_type": "code",
   "execution_count": 14,
   "id": "ef8ddb5f",
   "metadata": {},
   "outputs": [],
   "source": [
    "# f_df = rfm_df['Frequency'].plot.hist(bins=1500)\n",
    "# f_df.set_xlim(0, 1000)"
   ]
  },
  {
   "cell_type": "code",
   "execution_count": 15,
   "id": "b2aab02a",
   "metadata": {},
   "outputs": [
    {
     "data": {
      "text/plain": [
       "(0.0, 5000.0)"
      ]
     },
     "execution_count": 15,
     "metadata": {},
     "output_type": "execute_result"
    },
    {
     "data": {
      "image/png": "[encoded data removed]",
      "text/plain": [
       "<Figure size 432x288 with 1 Axes>"
      ]
     },
     "metadata": {
      "needs_background": "light"
     },
     "output_type": "display_data"
    }
   ],
   "source": [
    "m_df = rfm_df['Monetary'].plot.hist(bins=1500)\n",
    "m_df.set_xlim(0, 5000)"
   ]
  },
  {
   "cell_type": "code",
   "execution_count": 16,
   "id": "5f2a6fa0",
   "metadata": {},
   "outputs": [
    {
     "name": "stderr",
     "output_type": "stream",
     "text": [
      "/Users/chenyenchun/opt/anaconda3/lib/python3.8/site-packages/seaborn/distributions.py:2557: FutureWarning: `distplot` is a deprecated function and will be removed in a future version. Please adapt your code to use either `displot` (a figure-level function with similar flexibility) or `histplot` (an axes-level function for histograms).\n",
      "  warnings.warn(msg, FutureWarning)\n",
      "/Users/chenyenchun/opt/anaconda3/lib/python3.8/site-packages/seaborn/distributions.py:2557: FutureWarning: `distplot` is a deprecated function and will be removed in a future version. Please adapt your code to use either `displot` (a figure-level function with similar flexibility) or `histplot` (an axes-level function for histograms).\n",
      "  warnings.warn(msg, FutureWarning)\n",
      "/Users/chenyenchun/opt/anaconda3/lib/python3.8/site-packages/seaborn/distributions.py:2557: FutureWarning: `distplot` is a deprecated function and will be removed in a future version. Please adapt your code to use either `displot` (a figure-level function with similar flexibility) or `histplot` (an axes-level function for histograms).\n",
      "  warnings.warn(msg, FutureWarning)\n"
     ]
    },
    {
     "data": {
      "image/png": "[encoded data removed]",
      "text/plain": [
       "<Figure size 864x720 with 3 Axes>"
      ]
     },
     "metadata": {
      "needs_background": "light"
     },
     "output_type": "display_data"
    }
   ],
   "source": [
    "plt.figure(figsize=(12, 10))\n",
    "plt.subplot(3, 1, 1)\n",
    "sns.distplot(rfm_df['Recency'])\n",
    "\n",
    "plt.subplot(3, 1, 2)\n",
    "ax1 = sns.distplot(rfm_df['Frequency'], bins=1500)\n",
    "ax1.set_xlim(0, 1000)\n",
    "\n",
    "plt.subplot(3, 1, 3)\n",
    "ax2 = sns.distplot(rfm_df['Monetary'], bins= 1600)\n",
    "ax2.set_xlim(0, 5000)\n",
    "\n",
    "# sns.distplot(rfm_df['Monetary'])\n",
    "\n",
    "# Show the plot\n",
    "plt.show()"
   ]
  },
  {
   "cell_type": "markdown",
   "id": "24c7d852",
   "metadata": {},
   "source": [
    "## Present the statistics\n",
    "\n",
    "As some purchasing records were from the agents or colleagues in the company, they usually purchase more frequently and more expensively than our individual customers. Hence, I utilized the z-score to recognize outliers and remove them to ensure the resulting KPIs wouldn't be biased."
   ]
  },
  {
   "cell_type": "code",
   "execution_count": 17,
   "id": "1afebb15",
   "metadata": {},
   "outputs": [],
   "source": [
    "import scipy.stats\n",
    "import statistics as stats\n",
    "import numpy as np\n",
    "import os"
   ]
  },
  {
   "cell_type": "code",
   "execution_count": 18,
   "id": "c3e47d5c",
   "metadata": {},
   "outputs": [],
   "source": [
    "# number of 4 here reference to the std\n",
    "new_rfm_df = rfm_df.copy()\n",
    "new_rfm_df['Z_score'] = scipy.stats.zscore(new_rfm_df['Monetary'])\n",
    "new_rfm_df = new_rfm_df.drop(new_rfm_df[new_rfm_df['Z_score'] > 4].index)\n",
    "\n",
    "new_rfm_df['Z_score'] = scipy.stats.zscore(new_rfm_df['Frequency'])\n",
    "new_rfm_df = new_rfm_df.drop(new_rfm_df[new_rfm_df['Z_score'] > 4].index)"
   ]
  },
  {
   "cell_type": "code",
   "execution_count": 19,
   "id": "6d17b58d",
   "metadata": {},
   "outputs": [
    {
     "data": {
      "text/html": [
       "<div>\n",
       "<style scoped>\n",
       "    .dataframe tbody tr th:only-of-type {\n",
       "        vertical-align: middle;\n",
       "    }\n",
       "\n",
       "    .dataframe tbody tr th {\n",
       "        vertical-align: top;\n",
       "    }\n",
       "\n",
       "    .dataframe thead th {\n",
       "        text-align: right;\n",
       "    }\n",
       "</style>\n",
       "<table border=\"1\" class=\"dataframe\">\n",
       "  <thead>\n",
       "    <tr style=\"text-align: right;\">\n",
       "      <th></th>\n",
       "      <th>Recency</th>\n",
       "      <th>Frequency</th>\n",
       "      <th>Monetary</th>\n",
       "      <th>Z_score</th>\n",
       "    </tr>\n",
       "    <tr>\n",
       "      <th>Customer ID</th>\n",
       "      <th></th>\n",
       "      <th></th>\n",
       "      <th></th>\n",
       "      <th></th>\n",
       "    </tr>\n",
       "  </thead>\n",
       "  <tbody>\n",
       "  </tbody>\n",
       "</table>\n",
       "</div>"
      ],
      "text/plain": [
       "Empty DataFrame\n",
       "Columns: [Recency, Frequency, Monetary, Z_score]\n",
       "Index: []"
      ]
     },
     "execution_count": 19,
     "metadata": {},
     "output_type": "execute_result"
    }
   ],
   "source": [
    "# For checking\n",
    "new_rfm_df[new_rfm_df['Z_score'] > 4]"
   ]
  },
  {
   "cell_type": "code",
   "execution_count": 20,
   "id": "f3c0bebf",
   "metadata": {},
   "outputs": [
    {
     "name": "stdout",
     "output_type": "stream",
     "text": [
      "== RFM Statistics ==\n",
      "\n",
      "           Recency    Frequency      Monetary\n",
      "mean     92.468168    82.137899    283.258992\n",
      "median   50.000000    41.000000    129.210000\n",
      "max     374.000000  1011.000000  40278.900000\n",
      "min       1.000000     1.000000      0.000000\n",
      "std     100.824782   112.314498    920.293350\n"
     ]
    }
   ],
   "source": [
    "table = new_rfm_df[['Recency', 'Frequency', 'Monetary']].agg([np.mean, np.median, max, min, np.std])\n",
    "print('== RFM Statistics ==')\n",
    "print()\n",
    "print(table)"
   ]
  },
  {
   "cell_type": "code",
   "execution_count": 21,
   "id": "a13508f4",
   "metadata": {
    "scrolled": true
   },
   "outputs": [
    {
     "data": {
      "text/html": [
       "<div>\n",
       "<style scoped>\n",
       "    .dataframe tbody tr th:only-of-type {\n",
       "        vertical-align: middle;\n",
       "    }\n",
       "\n",
       "    .dataframe tbody tr th {\n",
       "        vertical-align: top;\n",
       "    }\n",
       "\n",
       "    .dataframe thead th {\n",
       "        text-align: right;\n",
       "    }\n",
       "</style>\n",
       "<table border=\"1\" class=\"dataframe\">\n",
       "  <thead>\n",
       "    <tr style=\"text-align: right;\">\n",
       "      <th></th>\n",
       "      <th>Recency</th>\n",
       "      <th>Frequency</th>\n",
       "      <th>Monetary</th>\n",
       "      <th>Z_score</th>\n",
       "    </tr>\n",
       "  </thead>\n",
       "  <tbody>\n",
       "    <tr>\n",
       "      <th>count</th>\n",
       "      <td>4351.000000</td>\n",
       "      <td>4351.000000</td>\n",
       "      <td>4351.000000</td>\n",
       "      <td>4351.000000</td>\n",
       "    </tr>\n",
       "    <tr>\n",
       "      <th>mean</th>\n",
       "      <td>92.468168</td>\n",
       "      <td>82.137899</td>\n",
       "      <td>283.258992</td>\n",
       "      <td>-0.046960</td>\n",
       "    </tr>\n",
       "    <tr>\n",
       "      <th>std</th>\n",
       "      <td>100.824782</td>\n",
       "      <td>112.314498</td>\n",
       "      <td>920.293350</td>\n",
       "      <td>0.483187</td>\n",
       "    </tr>\n",
       "    <tr>\n",
       "      <th>min</th>\n",
       "      <td>1.000000</td>\n",
       "      <td>1.000000</td>\n",
       "      <td>0.000000</td>\n",
       "      <td>-0.396023</td>\n",
       "    </tr>\n",
       "    <tr>\n",
       "      <th>25%</th>\n",
       "      <td>17.000000</td>\n",
       "      <td>17.000000</td>\n",
       "      <td>52.405000</td>\n",
       "      <td>-0.327189</td>\n",
       "    </tr>\n",
       "    <tr>\n",
       "      <th>50%</th>\n",
       "      <td>50.000000</td>\n",
       "      <td>41.000000</td>\n",
       "      <td>129.210000</td>\n",
       "      <td>-0.223939</td>\n",
       "    </tr>\n",
       "    <tr>\n",
       "      <th>75%</th>\n",
       "      <td>143.500000</td>\n",
       "      <td>100.000000</td>\n",
       "      <td>297.995000</td>\n",
       "      <td>0.029884</td>\n",
       "    </tr>\n",
       "    <tr>\n",
       "      <th>max</th>\n",
       "      <td>374.000000</td>\n",
       "      <td>1011.000000</td>\n",
       "      <td>40278.900000</td>\n",
       "      <td>3.949091</td>\n",
       "    </tr>\n",
       "  </tbody>\n",
       "</table>\n",
       "</div>"
      ],
      "text/plain": [
       "           Recency    Frequency      Monetary      Z_score\n",
       "count  4351.000000  4351.000000   4351.000000  4351.000000\n",
       "mean     92.468168    82.137899    283.258992    -0.046960\n",
       "std     100.824782   112.314498    920.293350     0.483187\n",
       "min       1.000000     1.000000      0.000000    -0.396023\n",
       "25%      17.000000    17.000000     52.405000    -0.327189\n",
       "50%      50.000000    41.000000    129.210000    -0.223939\n",
       "75%     143.500000   100.000000    297.995000     0.029884\n",
       "max     374.000000  1011.000000  40278.900000     3.949091"
      ]
     },
     "execution_count": 21,
     "metadata": {},
     "output_type": "execute_result"
    }
   ],
   "source": [
    "# for double checking\n",
    "new_rfm_df.describe()"
   ]
  },
  {
   "cell_type": "code",
   "execution_count": 22,
   "id": "7c6a191a",
   "metadata": {},
   "outputs": [],
   "source": [
    "new_rfm_df = new_rfm_df.drop(columns=['Z_score'])"
   ]
  },
  {
   "cell_type": "markdown",
   "id": "0ec9fe77",
   "metadata": {},
   "source": [
    "## RFM segmentation with class and score\n",
    "\n",
    "1. Allow manager to type in the RFM criterias to classify customers (TODO: make it become a System)\n",
    "2. cut the customer into different group\n",
    "\n",
    "As I would like to classify customers into different groups, I would like to divide customers into 125 groups based on their Recency, Frequency, and Monetary scores. However, we can separate into 9 groups as well, based on the discussion with our business stakeholders."
   ]
  },
  {
   "cell_type": "code",
   "execution_count": 23,
   "id": "b918f359",
   "metadata": {},
   "outputs": [],
   "source": [
    "r_labels = range(1, 6)\n",
    "f_labels = range(5, 0, -1)\n",
    "m_labels = range(5, 0, -1)"
   ]
  },
  {
   "cell_type": "code",
   "execution_count": 24,
   "id": "7366f352",
   "metadata": {},
   "outputs": [],
   "source": [
    "new_rfm_df['R'] = pd.qcut(new_rfm_df['Recency'], q=5, labels=r_labels)\n",
    "new_rfm_df['F'] = pd.qcut(new_rfm_df['Frequency'], q=5, labels=r_labels)\n",
    "new_rfm_df['M'] = pd.qcut(new_rfm_df['Monetary'], q=5, labels=r_labels)\n",
    "# with these 3 scores in place, R F M, we can create our first RFM segment by concatenating the values\n",
    "# together below "
   ]
  },
  {
   "cell_type": "code",
   "execution_count": 25,
   "id": "0f7cfdb9",
   "metadata": {},
   "outputs": [
    {
     "data": {
      "text/html": [
       "<div>\n",
       "<style scoped>\n",
       "    .dataframe tbody tr th:only-of-type {\n",
       "        vertical-align: middle;\n",
       "    }\n",
       "\n",
       "    .dataframe tbody tr th {\n",
       "        vertical-align: top;\n",
       "    }\n",
       "\n",
       "    .dataframe thead th {\n",
       "        text-align: right;\n",
       "    }\n",
       "</style>\n",
       "<table border=\"1\" class=\"dataframe\">\n",
       "  <thead>\n",
       "    <tr style=\"text-align: right;\">\n",
       "      <th></th>\n",
       "      <th>Recency</th>\n",
       "      <th>Frequency</th>\n",
       "      <th>Monetary</th>\n",
       "      <th>R</th>\n",
       "      <th>F</th>\n",
       "      <th>M</th>\n",
       "    </tr>\n",
       "    <tr>\n",
       "      <th>Customer ID</th>\n",
       "      <th></th>\n",
       "      <th></th>\n",
       "      <th></th>\n",
       "      <th></th>\n",
       "      <th></th>\n",
       "      <th></th>\n",
       "    </tr>\n",
       "  </thead>\n",
       "  <tbody>\n",
       "    <tr>\n",
       "      <th>12346.0</th>\n",
       "      <td>326</td>\n",
       "      <td>2</td>\n",
       "      <td>2.08</td>\n",
       "      <td>5</td>\n",
       "      <td>1</td>\n",
       "      <td>1</td>\n",
       "    </tr>\n",
       "    <tr>\n",
       "      <th>12347.0</th>\n",
       "      <td>2</td>\n",
       "      <td>182</td>\n",
       "      <td>481.21</td>\n",
       "      <td>1</td>\n",
       "      <td>5</td>\n",
       "      <td>5</td>\n",
       "    </tr>\n",
       "    <tr>\n",
       "      <th>12348.0</th>\n",
       "      <td>75</td>\n",
       "      <td>31</td>\n",
       "      <td>178.71</td>\n",
       "      <td>4</td>\n",
       "      <td>3</td>\n",
       "      <td>3</td>\n",
       "    </tr>\n",
       "    <tr>\n",
       "      <th>12349.0</th>\n",
       "      <td>19</td>\n",
       "      <td>73</td>\n",
       "      <td>605.10</td>\n",
       "      <td>2</td>\n",
       "      <td>4</td>\n",
       "      <td>5</td>\n",
       "    </tr>\n",
       "    <tr>\n",
       "      <th>12350.0</th>\n",
       "      <td>310</td>\n",
       "      <td>17</td>\n",
       "      <td>65.30</td>\n",
       "      <td>5</td>\n",
       "      <td>2</td>\n",
       "      <td>2</td>\n",
       "    </tr>\n",
       "  </tbody>\n",
       "</table>\n",
       "</div>"
      ],
      "text/plain": [
       "             Recency  Frequency  Monetary  R  F  M\n",
       "Customer ID                                       \n",
       "12346.0          326          2      2.08  5  1  1\n",
       "12347.0            2        182    481.21  1  5  5\n",
       "12348.0           75         31    178.71  4  3  3\n",
       "12349.0           19         73    605.10  2  4  5\n",
       "12350.0          310         17     65.30  5  2  2"
      ]
     },
     "execution_count": 25,
     "metadata": {},
     "output_type": "execute_result"
    }
   ],
   "source": [
    "new_rfm_df.head()"
   ]
  },
  {
   "cell_type": "code",
   "execution_count": 26,
   "id": "cc0ec6c5",
   "metadata": {},
   "outputs": [],
   "source": [
    "new_rfm_df['RFM_Class'] = new_rfm_df['R'].astype(str) + new_rfm_df['F'].astype(str) + new_rfm_df['M'].astype(str)"
   ]
  },
  {
   "cell_type": "code",
   "execution_count": 27,
   "id": "b1cf76b9",
   "metadata": {},
   "outputs": [
    {
     "data": {
      "text/html": [
       "<div>\n",
       "<style scoped>\n",
       "    .dataframe tbody tr th:only-of-type {\n",
       "        vertical-align: middle;\n",
       "    }\n",
       "\n",
       "    .dataframe tbody tr th {\n",
       "        vertical-align: top;\n",
       "    }\n",
       "\n",
       "    .dataframe thead th {\n",
       "        text-align: right;\n",
       "    }\n",
       "</style>\n",
       "<table border=\"1\" class=\"dataframe\">\n",
       "  <thead>\n",
       "    <tr style=\"text-align: right;\">\n",
       "      <th></th>\n",
       "      <th>Recency</th>\n",
       "      <th>Frequency</th>\n",
       "      <th>Monetary</th>\n",
       "      <th>R</th>\n",
       "      <th>F</th>\n",
       "      <th>M</th>\n",
       "      <th>RFM_Class</th>\n",
       "    </tr>\n",
       "    <tr>\n",
       "      <th>Customer ID</th>\n",
       "      <th></th>\n",
       "      <th></th>\n",
       "      <th></th>\n",
       "      <th></th>\n",
       "      <th></th>\n",
       "      <th></th>\n",
       "      <th></th>\n",
       "    </tr>\n",
       "  </thead>\n",
       "  <tbody>\n",
       "    <tr>\n",
       "      <th>12346.0</th>\n",
       "      <td>326</td>\n",
       "      <td>2</td>\n",
       "      <td>2.08</td>\n",
       "      <td>5</td>\n",
       "      <td>1</td>\n",
       "      <td>1</td>\n",
       "      <td>511</td>\n",
       "    </tr>\n",
       "    <tr>\n",
       "      <th>12347.0</th>\n",
       "      <td>2</td>\n",
       "      <td>182</td>\n",
       "      <td>481.21</td>\n",
       "      <td>1</td>\n",
       "      <td>5</td>\n",
       "      <td>5</td>\n",
       "      <td>155</td>\n",
       "    </tr>\n",
       "    <tr>\n",
       "      <th>12348.0</th>\n",
       "      <td>75</td>\n",
       "      <td>31</td>\n",
       "      <td>178.71</td>\n",
       "      <td>4</td>\n",
       "      <td>3</td>\n",
       "      <td>3</td>\n",
       "      <td>433</td>\n",
       "    </tr>\n",
       "    <tr>\n",
       "      <th>12349.0</th>\n",
       "      <td>19</td>\n",
       "      <td>73</td>\n",
       "      <td>605.10</td>\n",
       "      <td>2</td>\n",
       "      <td>4</td>\n",
       "      <td>5</td>\n",
       "      <td>245</td>\n",
       "    </tr>\n",
       "    <tr>\n",
       "      <th>12350.0</th>\n",
       "      <td>310</td>\n",
       "      <td>17</td>\n",
       "      <td>65.30</td>\n",
       "      <td>5</td>\n",
       "      <td>2</td>\n",
       "      <td>2</td>\n",
       "      <td>522</td>\n",
       "    </tr>\n",
       "  </tbody>\n",
       "</table>\n",
       "</div>"
      ],
      "text/plain": [
       "             Recency  Frequency  Monetary  R  F  M RFM_Class\n",
       "Customer ID                                                 \n",
       "12346.0          326          2      2.08  5  1  1       511\n",
       "12347.0            2        182    481.21  1  5  5       155\n",
       "12348.0           75         31    178.71  4  3  3       433\n",
       "12349.0           19         73    605.10  2  4  5       245\n",
       "12350.0          310         17     65.30  5  2  2       522"
      ]
     },
     "execution_count": 27,
     "metadata": {},
     "output_type": "execute_result"
    }
   ],
   "source": [
    "new_rfm_df.head()"
   ]
  },
  {
   "cell_type": "code",
   "execution_count": 28,
   "id": "99b73729",
   "metadata": {},
   "outputs": [
    {
     "data": {
      "text/plain": [
       "100"
      ]
     },
     "execution_count": 28,
     "metadata": {},
     "output_type": "execute_result"
    }
   ],
   "source": [
    "# how many groups we have \n",
    "len(new_rfm_df['RFM_Class'].value_counts())"
   ]
  },
  {
   "cell_type": "code",
   "execution_count": 29,
   "id": "d9db02e9",
   "metadata": {},
   "outputs": [
    {
     "data": {
      "text/plain": [
       "100"
      ]
     },
     "execution_count": 29,
     "metadata": {},
     "output_type": "execute_result"
    }
   ],
   "source": [
    "new_rfm_df.groupby('RFM_Class')['RFM_Class'].nunique().sum()"
   ]
  },
  {
   "cell_type": "code",
   "execution_count": 30,
   "id": "c33c4c74",
   "metadata": {},
   "outputs": [],
   "source": [
    "# get the total number of each group\n",
    "number_of_class_df = new_rfm_df.groupby('RFM_Class')['RFM_Class'].count().sort_values(ascending=False)\n"
   ]
  },
  {
   "cell_type": "code",
   "execution_count": 31,
   "id": "8937818d",
   "metadata": {},
   "outputs": [
    {
     "data": {
      "text/html": [
       "<div>\n",
       "<style scoped>\n",
       "    .dataframe tbody tr th:only-of-type {\n",
       "        vertical-align: middle;\n",
       "    }\n",
       "\n",
       "    .dataframe tbody tr th {\n",
       "        vertical-align: top;\n",
       "    }\n",
       "\n",
       "    .dataframe thead th {\n",
       "        text-align: right;\n",
       "    }\n",
       "</style>\n",
       "<table border=\"1\" class=\"dataframe\">\n",
       "  <thead>\n",
       "    <tr style=\"text-align: right;\">\n",
       "      <th></th>\n",
       "      <th>Recency</th>\n",
       "      <th>Frequency</th>\n",
       "      <th>Monetary</th>\n",
       "      <th>R</th>\n",
       "      <th>F</th>\n",
       "      <th>M</th>\n",
       "      <th>RFM_Class</th>\n",
       "      <th>RFM_Score</th>\n",
       "    </tr>\n",
       "    <tr>\n",
       "      <th>Customer ID</th>\n",
       "      <th></th>\n",
       "      <th></th>\n",
       "      <th></th>\n",
       "      <th></th>\n",
       "      <th></th>\n",
       "      <th></th>\n",
       "      <th></th>\n",
       "      <th></th>\n",
       "    </tr>\n",
       "  </thead>\n",
       "  <tbody>\n",
       "    <tr>\n",
       "      <th>12346.0</th>\n",
       "      <td>326</td>\n",
       "      <td>2</td>\n",
       "      <td>2.08</td>\n",
       "      <td>5</td>\n",
       "      <td>1</td>\n",
       "      <td>1</td>\n",
       "      <td>511</td>\n",
       "      <td>7.0</td>\n",
       "    </tr>\n",
       "    <tr>\n",
       "      <th>12347.0</th>\n",
       "      <td>2</td>\n",
       "      <td>182</td>\n",
       "      <td>481.21</td>\n",
       "      <td>1</td>\n",
       "      <td>5</td>\n",
       "      <td>5</td>\n",
       "      <td>155</td>\n",
       "      <td>11.0</td>\n",
       "    </tr>\n",
       "    <tr>\n",
       "      <th>12348.0</th>\n",
       "      <td>75</td>\n",
       "      <td>31</td>\n",
       "      <td>178.71</td>\n",
       "      <td>4</td>\n",
       "      <td>3</td>\n",
       "      <td>3</td>\n",
       "      <td>433</td>\n",
       "      <td>10.0</td>\n",
       "    </tr>\n",
       "    <tr>\n",
       "      <th>12349.0</th>\n",
       "      <td>19</td>\n",
       "      <td>73</td>\n",
       "      <td>605.10</td>\n",
       "      <td>2</td>\n",
       "      <td>4</td>\n",
       "      <td>5</td>\n",
       "      <td>245</td>\n",
       "      <td>11.0</td>\n",
       "    </tr>\n",
       "    <tr>\n",
       "      <th>12350.0</th>\n",
       "      <td>310</td>\n",
       "      <td>17</td>\n",
       "      <td>65.30</td>\n",
       "      <td>5</td>\n",
       "      <td>2</td>\n",
       "      <td>2</td>\n",
       "      <td>522</td>\n",
       "      <td>9.0</td>\n",
       "    </tr>\n",
       "  </tbody>\n",
       "</table>\n",
       "</div>"
      ],
      "text/plain": [
       "             Recency  Frequency  Monetary  R  F  M RFM_Class  RFM_Score\n",
       "Customer ID                                                            \n",
       "12346.0          326          2      2.08  5  1  1       511        7.0\n",
       "12347.0            2        182    481.21  1  5  5       155       11.0\n",
       "12348.0           75         31    178.71  4  3  3       433       10.0\n",
       "12349.0           19         73    605.10  2  4  5       245       11.0\n",
       "12350.0          310         17     65.30  5  2  2       522        9.0"
      ]
     },
     "execution_count": 31,
     "metadata": {},
     "output_type": "execute_result"
    }
   ],
   "source": [
    "# get the RFM Score \n",
    "new_rfm_df['RFM_Score'] = new_rfm_df[['R', 'F', 'M']].sum(axis=1)\n",
    "new_rfm_df.head()"
   ]
  },
  {
   "cell_type": "code",
   "execution_count": 32,
   "id": "21ae82e8",
   "metadata": {},
   "outputs": [
    {
     "data": {
      "text/plain": [
       "'511'"
      ]
     },
     "execution_count": 32,
     "metadata": {},
     "output_type": "execute_result"
    }
   ],
   "source": [
    "new_rfm_df['RFM_Class'][0]"
   ]
  },
  {
   "cell_type": "markdown",
   "id": "29c10ae6",
   "metadata": {},
   "source": [
    "## Finalize the customers classifciation based on their RFM Score and Class\n",
    "\n",
    "1. analyze each group \n",
    "2. segment each group"
   ]
  },
  {
   "cell_type": "code",
   "execution_count": 33,
   "id": "149849f3",
   "metadata": {},
   "outputs": [
    {
     "name": "stdout",
     "output_type": "stream",
     "text": [
      "Show the Total Number for Top 10 customer class \n"
     ]
    },
    {
     "data": {
      "text/plain": [
       "RFM_Class\n",
       "155    354\n",
       "511    290\n",
       "255    193\n",
       "411    181\n",
       "244    154\n",
       "522    148\n",
       "144    134\n",
       "344    125\n",
       "355    116\n",
       "333    115\n",
       "Name: RFM_Class, dtype: int64"
      ]
     },
     "execution_count": 33,
     "metadata": {},
     "output_type": "execute_result"
    }
   ],
   "source": [
    "print(\"Show the Total Number for Top 10 customer class \")\n",
    "number_of_class_df[:10]"
   ]
  },
  {
   "cell_type": "code",
   "execution_count": 34,
   "id": "e6825e8e",
   "metadata": {},
   "outputs": [
    {
     "name": "stdout",
     "output_type": "stream",
     "text": [
      "VVIP(R=5 & F=5 & M=5): 17\n",
      "VVIP(R=5 & F=4 & M=4): 34\n",
      "VVIP(R=4 & F=4 & M=4): 91\n"
     ]
    }
   ],
   "source": [
    "# Classifying the customer into different group and find out who is the (VVIP and VIP) or disengaged user\n",
    "# Can separate into VVIP 1 2 3 / VIP 1 2 3 group -> total for 6 group\n",
    "# Example below show the disengaged user\n",
    "print(f\"VVIP(R=5 & F=5 & M=5): {len(new_rfm_df[new_rfm_df['RFM_Class'] == '555'])}\")\n",
    "print(f\"VVIP(R=5 & F=4 & M=4): {len(new_rfm_df[new_rfm_df['RFM_Class'] == '544'])}\")\n",
    "print(f\"VVIP(R=4 & F=4 & M=4): {len(new_rfm_df[new_rfm_df['RFM_Class'] == '444'])}\")"
   ]
  },
  {
   "cell_type": "code",
   "execution_count": 35,
   "id": "2032e27e",
   "metadata": {},
   "outputs": [],
   "source": [
    "def rfm_mapping(df):\n",
    "    \"\"\"\n",
    "    https://blog.digitalj2.com/customer-based-segmentation-rfm-analysis\n",
    "    \"\"\"\n",
    "    df['RFM_Segment'] = \"\"\n",
    "    df['Marketing_Action'] = \"\"\n",
    "    df['RFM_Class'] = df['RFM_Class'].astype(int)\n",
    "    for i in range(len(df)):\n",
    "        if df['RFM_Score'].iloc[i] >= 13 and ((df['M'].iloc[i] >= 4) and (df['R'].iloc[i] >= 4) and (df['F'].iloc[i] >= 4)):\n",
    "            df['RFM_Segment'].iloc[i] = 'VVIP'\n",
    "            df['Marketing_Action'].iloc[i] = 'Special Rewards, Loyality Programs, Exclusive offers'\n",
    "        elif df['RFM_Score'].iloc[i] > 9 and ((df['M'].iloc[i] >= 3) and (df['R'].iloc[i] >= 3) and (df['F'].iloc[i] >= 3)):\n",
    "            df['RFM_Segment'].iloc[i] = 'VIP'\n",
    "            df['Marketing_Action'].iloc[i] = 'Rewards, Loyality Programs, Exclusive offers'\n",
    "        elif (df['RFM_Score'].iloc[i] > 9) and ((df['M'].iloc[i] >= 4) and (df['R'].iloc[i] >= 4) and (df['F'].iloc[i] <= 2)):\n",
    "            df['RFM_Segment'].iloc[i] ='New Big Spenders'\n",
    "            df['Marketing_Action'].iloc[i] = 'Personalized Email, Upsell expensive item, Enroll Loyality Program'\n",
    "        elif (df['RFM_Score'].iloc[i] >= 9) and ((df['M'].iloc[i] <= 3) and (df['R'].iloc[i] >= 4) and (df['F'].iloc[i] >= 4)):\n",
    "            df['RFM_Segment'].iloc[i] ='Lower spending but Loyal Customer'\n",
    "            df['Marketing_Action'].iloc[i] = 'Bundles, Cross sell, Free Shipping'\n",
    "        elif df['RFM_Score'].iloc[i] >= 6 or df['RFM_Class'].iloc[i] >= 222:\n",
    "            df['RFM_Segment'].iloc[i] = 'Potential Loyalists'\n",
    "            df['Marketing_Action'].iloc[i] = 'Cross Sell Recommendations, Discount and coupons'\n",
    "        elif (df['R'].iloc[i] <= 3) or (df['RFM_Class'].iloc[i] >= 111):\n",
    "            df['RFM_Segment'].iloc[i] ='Disengaged Customers'\n",
    "            df['Marketing_Action'].iloc[i] = 'Re-engagement Campaign'\n",
    "        else:\n",
    "            df['RFM_Segment'].iloc[i] ='Lost Customers'"
   ]
  },
  {
   "cell_type": "code",
   "execution_count": 36,
   "id": "9f4a3a77",
   "metadata": {},
   "outputs": [
    {
     "name": "stderr",
     "output_type": "stream",
     "text": [
      "/Users/chenyenchun/opt/anaconda3/lib/python3.8/site-packages/pandas/core/indexing.py:1637: SettingWithCopyWarning: \n",
      "A value is trying to be set on a copy of a slice from a DataFrame\n",
      "\n",
      "See the caveats in the documentation: https://pandas.pydata.org/pandas-docs/stable/user_guide/indexing.html#returning-a-view-versus-a-copy\n",
      "  self._setitem_single_block(indexer, value, name)\n"
     ]
    }
   ],
   "source": [
    "rfm_mapping(new_rfm_df)\n"
   ]
  },
  {
   "cell_type": "code",
   "execution_count": 37,
   "id": "0ab80220",
   "metadata": {},
   "outputs": [
    {
     "data": {
      "text/html": [
       "<div>\n",
       "<style scoped>\n",
       "    .dataframe tbody tr th:only-of-type {\n",
       "        vertical-align: middle;\n",
       "    }\n",
       "\n",
       "    .dataframe tbody tr th {\n",
       "        vertical-align: top;\n",
       "    }\n",
       "\n",
       "    .dataframe thead th {\n",
       "        text-align: right;\n",
       "    }\n",
       "</style>\n",
       "<table border=\"1\" class=\"dataframe\">\n",
       "  <thead>\n",
       "    <tr style=\"text-align: right;\">\n",
       "      <th></th>\n",
       "      <th>Recency</th>\n",
       "      <th>Frequency</th>\n",
       "      <th>Monetary</th>\n",
       "      <th>R</th>\n",
       "      <th>F</th>\n",
       "      <th>M</th>\n",
       "      <th>RFM_Class</th>\n",
       "      <th>RFM_Score</th>\n",
       "      <th>RFM_Segment</th>\n",
       "      <th>Marketing_Action</th>\n",
       "    </tr>\n",
       "    <tr>\n",
       "      <th>Customer ID</th>\n",
       "      <th></th>\n",
       "      <th></th>\n",
       "      <th></th>\n",
       "      <th></th>\n",
       "      <th></th>\n",
       "      <th></th>\n",
       "      <th></th>\n",
       "      <th></th>\n",
       "      <th></th>\n",
       "      <th></th>\n",
       "    </tr>\n",
       "  </thead>\n",
       "  <tbody>\n",
       "    <tr>\n",
       "      <th>12346.0</th>\n",
       "      <td>326</td>\n",
       "      <td>2</td>\n",
       "      <td>2.08</td>\n",
       "      <td>5</td>\n",
       "      <td>1</td>\n",
       "      <td>1</td>\n",
       "      <td>511</td>\n",
       "      <td>7.0</td>\n",
       "      <td>Potential Loyalists</td>\n",
       "      <td>Cross Sell Recommendations, Discount and coupons</td>\n",
       "    </tr>\n",
       "    <tr>\n",
       "      <th>12347.0</th>\n",
       "      <td>2</td>\n",
       "      <td>182</td>\n",
       "      <td>481.21</td>\n",
       "      <td>1</td>\n",
       "      <td>5</td>\n",
       "      <td>5</td>\n",
       "      <td>155</td>\n",
       "      <td>11.0</td>\n",
       "      <td>Potential Loyalists</td>\n",
       "      <td>Cross Sell Recommendations, Discount and coupons</td>\n",
       "    </tr>\n",
       "    <tr>\n",
       "      <th>12348.0</th>\n",
       "      <td>75</td>\n",
       "      <td>31</td>\n",
       "      <td>178.71</td>\n",
       "      <td>4</td>\n",
       "      <td>3</td>\n",
       "      <td>3</td>\n",
       "      <td>433</td>\n",
       "      <td>10.0</td>\n",
       "      <td>VIP</td>\n",
       "      <td>Rewards, Loyality Programs, Exclusive offers</td>\n",
       "    </tr>\n",
       "    <tr>\n",
       "      <th>12349.0</th>\n",
       "      <td>19</td>\n",
       "      <td>73</td>\n",
       "      <td>605.10</td>\n",
       "      <td>2</td>\n",
       "      <td>4</td>\n",
       "      <td>5</td>\n",
       "      <td>245</td>\n",
       "      <td>11.0</td>\n",
       "      <td>Potential Loyalists</td>\n",
       "      <td>Cross Sell Recommendations, Discount and coupons</td>\n",
       "    </tr>\n",
       "    <tr>\n",
       "      <th>12350.0</th>\n",
       "      <td>310</td>\n",
       "      <td>17</td>\n",
       "      <td>65.30</td>\n",
       "      <td>5</td>\n",
       "      <td>2</td>\n",
       "      <td>2</td>\n",
       "      <td>522</td>\n",
       "      <td>9.0</td>\n",
       "      <td>Potential Loyalists</td>\n",
       "      <td>Cross Sell Recommendations, Discount and coupons</td>\n",
       "    </tr>\n",
       "  </tbody>\n",
       "</table>\n",
       "</div>"
      ],
      "text/plain": [
       "             Recency  Frequency  Monetary  R  F  M  RFM_Class  RFM_Score  \\\n",
       "Customer ID                                                                \n",
       "12346.0          326          2      2.08  5  1  1        511        7.0   \n",
       "12347.0            2        182    481.21  1  5  5        155       11.0   \n",
       "12348.0           75         31    178.71  4  3  3        433       10.0   \n",
       "12349.0           19         73    605.10  2  4  5        245       11.0   \n",
       "12350.0          310         17     65.30  5  2  2        522        9.0   \n",
       "\n",
       "                     RFM_Segment  \\\n",
       "Customer ID                        \n",
       "12346.0      Potential Loyalists   \n",
       "12347.0      Potential Loyalists   \n",
       "12348.0                      VIP   \n",
       "12349.0      Potential Loyalists   \n",
       "12350.0      Potential Loyalists   \n",
       "\n",
       "                                             Marketing_Action  \n",
       "Customer ID                                                    \n",
       "12346.0      Cross Sell Recommendations, Discount and coupons  \n",
       "12347.0      Cross Sell Recommendations, Discount and coupons  \n",
       "12348.0          Rewards, Loyality Programs, Exclusive offers  \n",
       "12349.0      Cross Sell Recommendations, Discount and coupons  \n",
       "12350.0      Cross Sell Recommendations, Discount and coupons  "
      ]
     },
     "execution_count": 37,
     "metadata": {},
     "output_type": "execute_result"
    }
   ],
   "source": [
    "new_rfm_df.head()"
   ]
  },
  {
   "cell_type": "code",
   "execution_count": 38,
   "id": "f029b20c",
   "metadata": {},
   "outputs": [
    {
     "data": {
      "text/plain": [
       "Potential Loyalists                  3156\n",
       "VIP                                   779\n",
       "Disengaged Customers                  242\n",
       "VVIP                                  147\n",
       "New Big Spenders                       26\n",
       "Lower spending but Loyal Customer       1\n",
       "Name: RFM_Segment, dtype: int64"
      ]
     },
     "execution_count": 38,
     "metadata": {},
     "output_type": "execute_result"
    }
   ],
   "source": [
    "new_rfm_df['RFM_Segment'].value_counts()"
   ]
  },
  {
   "cell_type": "code",
   "execution_count": 39,
   "id": "a449960a",
   "metadata": {
    "scrolled": true
   },
   "outputs": [
    {
     "data": {
      "text/html": [
       "<div>\n",
       "<style scoped>\n",
       "    .dataframe tbody tr th:only-of-type {\n",
       "        vertical-align: middle;\n",
       "    }\n",
       "\n",
       "    .dataframe tbody tr th {\n",
       "        vertical-align: top;\n",
       "    }\n",
       "\n",
       "    .dataframe thead th {\n",
       "        text-align: right;\n",
       "    }\n",
       "</style>\n",
       "<table border=\"1\" class=\"dataframe\">\n",
       "  <thead>\n",
       "    <tr style=\"text-align: right;\">\n",
       "      <th></th>\n",
       "      <th>Recency</th>\n",
       "      <th>Frequency</th>\n",
       "      <th>Monetary</th>\n",
       "      <th>R</th>\n",
       "      <th>F</th>\n",
       "      <th>M</th>\n",
       "      <th>RFM_Class</th>\n",
       "      <th>RFM_Score</th>\n",
       "      <th>RFM_Segment</th>\n",
       "      <th>Marketing_Action</th>\n",
       "    </tr>\n",
       "    <tr>\n",
       "      <th>Customer ID</th>\n",
       "      <th></th>\n",
       "      <th></th>\n",
       "      <th></th>\n",
       "      <th></th>\n",
       "      <th></th>\n",
       "      <th></th>\n",
       "      <th></th>\n",
       "      <th></th>\n",
       "      <th></th>\n",
       "      <th></th>\n",
       "    </tr>\n",
       "  </thead>\n",
       "  <tbody>\n",
       "    <tr>\n",
       "      <th>12367.0</th>\n",
       "      <td>4</td>\n",
       "      <td>11</td>\n",
       "      <td>35.20</td>\n",
       "      <td>1</td>\n",
       "      <td>1</td>\n",
       "      <td>1</td>\n",
       "      <td>111</td>\n",
       "      <td>3.0</td>\n",
       "      <td>Disengaged Customers</td>\n",
       "      <td>Re-engagement Campaign</td>\n",
       "    </tr>\n",
       "    <tr>\n",
       "      <th>12442.0</th>\n",
       "      <td>3</td>\n",
       "      <td>12</td>\n",
       "      <td>40.08</td>\n",
       "      <td>1</td>\n",
       "      <td>1</td>\n",
       "      <td>1</td>\n",
       "      <td>111</td>\n",
       "      <td>3.0</td>\n",
       "      <td>Disengaged Customers</td>\n",
       "      <td>Re-engagement Campaign</td>\n",
       "    </tr>\n",
       "    <tr>\n",
       "      <th>12445.0</th>\n",
       "      <td>22</td>\n",
       "      <td>4</td>\n",
       "      <td>31.95</td>\n",
       "      <td>2</td>\n",
       "      <td>1</td>\n",
       "      <td>1</td>\n",
       "      <td>211</td>\n",
       "      <td>4.0</td>\n",
       "      <td>Disengaged Customers</td>\n",
       "      <td>Re-engagement Campaign</td>\n",
       "    </tr>\n",
       "    <tr>\n",
       "      <th>12558.0</th>\n",
       "      <td>2</td>\n",
       "      <td>22</td>\n",
       "      <td>27.50</td>\n",
       "      <td>1</td>\n",
       "      <td>2</td>\n",
       "      <td>1</td>\n",
       "      <td>121</td>\n",
       "      <td>4.0</td>\n",
       "      <td>Disengaged Customers</td>\n",
       "      <td>Re-engagement Campaign</td>\n",
       "    </tr>\n",
       "    <tr>\n",
       "      <th>12586.0</th>\n",
       "      <td>17</td>\n",
       "      <td>12</td>\n",
       "      <td>54.60</td>\n",
       "      <td>2</td>\n",
       "      <td>1</td>\n",
       "      <td>2</td>\n",
       "      <td>212</td>\n",
       "      <td>5.0</td>\n",
       "      <td>Disengaged Customers</td>\n",
       "      <td>Re-engagement Campaign</td>\n",
       "    </tr>\n",
       "  </tbody>\n",
       "</table>\n",
       "</div>"
      ],
      "text/plain": [
       "             Recency  Frequency  Monetary  R  F  M  RFM_Class  RFM_Score  \\\n",
       "Customer ID                                                                \n",
       "12367.0            4         11     35.20  1  1  1        111        3.0   \n",
       "12442.0            3         12     40.08  1  1  1        111        3.0   \n",
       "12445.0           22          4     31.95  2  1  1        211        4.0   \n",
       "12558.0            2         22     27.50  1  2  1        121        4.0   \n",
       "12586.0           17         12     54.60  2  1  2        212        5.0   \n",
       "\n",
       "                      RFM_Segment        Marketing_Action  \n",
       "Customer ID                                                \n",
       "12367.0      Disengaged Customers  Re-engagement Campaign  \n",
       "12442.0      Disengaged Customers  Re-engagement Campaign  \n",
       "12445.0      Disengaged Customers  Re-engagement Campaign  \n",
       "12558.0      Disengaged Customers  Re-engagement Campaign  \n",
       "12586.0      Disengaged Customers  Re-engagement Campaign  "
      ]
     },
     "execution_count": 39,
     "metadata": {},
     "output_type": "execute_result"
    }
   ],
   "source": [
    "new_rfm_df[new_rfm_df['RFM_Segment'] == 'Disengaged Customers'].head()"
   ]
  },
  {
   "cell_type": "markdown",
   "id": "26ed1017",
   "metadata": {},
   "source": [
    "### Market Actions\n",
    "\n",
    "1. VVIP\n",
    "    - Call or Survey to understand why they buy and stay loyal. Use this information to better serve them and profile this group to target new ones\n",
    "    - Surprise them with gifts in some of their orders\n",
    "    - reward them from loyalty\n",
    "2. VIP\n",
    "    - Call or Survey to understand why they buy and stay loyal. Use this information to better serve them and profile this group to target new ones\n",
    "    - Provide exclusive offers\n",
    "    - reward them from loyalty\n",
    "3. Big Spenders\n",
    "    - Welcome them and make them feel special\n",
    "    - personalized welcome email with a coupon code to incentivize a repeat purchase\n",
    "    - enroll these customers into a loyalty program that rewards order frequency\n",
    "4. Lower Spending But a loyal customer\n",
    "    - Create bundles that incentivize in context with prior purchases\n",
    "    - provide cross-sell and upsell offers in context with prior purchases\n",
    "    - Free shipping\n",
    "5. Potential customers\n",
    "    - cross-sell recommendations\n",
    "    - Coupon and discount\n",
    "6. Disengaged customers\n",
    "    - Re-engagement campaigns to win these customers back"
   ]
  },
  {
   "cell_type": "markdown",
   "id": "3ff6246f",
   "metadata": {},
   "source": [
    "## Group customer by their customer segmentation"
   ]
  },
  {
   "cell_type": "code",
   "execution_count": 40,
   "id": "3128dc51",
   "metadata": {},
   "outputs": [
    {
     "name": "stdout",
     "output_type": "stream",
     "text": [
      "                                  Recency Frequency Monetary        \\\n",
      "                                     mean      mean     mean count   \n",
      "RFM_Segment                                                          \n",
      "Disengaged Customers                14.86     12.14    32.09   242   \n",
      "Lower spending but Loyal Customer   92.00     98.00    92.66     1   \n",
      "New Big Spenders                   191.81     13.88  2228.96    26   \n",
      "Potential Loyalists                 90.28     82.62   259.54  3156   \n",
      "VIP                                107.89     92.81   347.55   779   \n",
      "VVIP                               167.84    142.42   522.34   147   \n",
      "\n",
      "                                                                    Marketing_Action  \n",
      "                                                                              unique  \n",
      "RFM_Segment                                                                           \n",
      "Disengaged Customers                                        [Re-engagement Campaign]  \n",
      "Lower spending but Loyal Customer               [Bundles, Cross sell, Free Shipping]  \n",
      "New Big Spenders                   [Personalized Email, Upsell expensive item, En...  \n",
      "Potential Loyalists                [Cross Sell Recommendations, Discount and coup...  \n",
      "VIP                                   [Rewards, Loyality Programs, Exclusive offers]  \n",
      "VVIP                               [Special Rewards, Loyality Programs, Exclusive...  \n"
     ]
    }
   ],
   "source": [
    "rfm_level_agg = new_rfm_df.groupby('RFM_Segment').agg({\n",
    "    'Recency': 'mean',\n",
    "    'Frequency': 'mean',\n",
    "    'Monetary': ['mean', 'count'],\n",
    "    'Marketing_Action': 'unique'\n",
    "}).round(2)\n",
    "\n",
    "print(rfm_level_agg)"
   ]
  },
  {
   "cell_type": "code",
   "execution_count": 41,
   "id": "190f4164",
   "metadata": {},
   "outputs": [],
   "source": [
    "new_rfm_level_agg = rfm_level_agg.reset_index()"
   ]
  },
  {
   "cell_type": "code",
   "execution_count": 42,
   "id": "2a882704",
   "metadata": {},
   "outputs": [
    {
     "data": {
      "text/html": [
       "<div>\n",
       "<style scoped>\n",
       "    .dataframe tbody tr th:only-of-type {\n",
       "        vertical-align: middle;\n",
       "    }\n",
       "\n",
       "    .dataframe tbody tr th {\n",
       "        vertical-align: top;\n",
       "    }\n",
       "\n",
       "    .dataframe thead tr th {\n",
       "        text-align: left;\n",
       "    }\n",
       "</style>\n",
       "<table border=\"1\" class=\"dataframe\">\n",
       "  <thead>\n",
       "    <tr>\n",
       "      <th></th>\n",
       "      <th>RFM_Segment</th>\n",
       "      <th>Recency</th>\n",
       "      <th>Frequency</th>\n",
       "      <th colspan=\"2\" halign=\"left\">Monetary</th>\n",
       "      <th>Marketing_Action</th>\n",
       "    </tr>\n",
       "    <tr>\n",
       "      <th></th>\n",
       "      <th></th>\n",
       "      <th>mean</th>\n",
       "      <th>mean</th>\n",
       "      <th>mean</th>\n",
       "      <th>count</th>\n",
       "      <th>unique</th>\n",
       "    </tr>\n",
       "  </thead>\n",
       "  <tbody>\n",
       "    <tr>\n",
       "      <th>0</th>\n",
       "      <td>Disengaged Customers</td>\n",
       "      <td>14.86</td>\n",
       "      <td>12.14</td>\n",
       "      <td>32.09</td>\n",
       "      <td>242</td>\n",
       "      <td>[Re-engagement Campaign]</td>\n",
       "    </tr>\n",
       "    <tr>\n",
       "      <th>1</th>\n",
       "      <td>Lower spending but Loyal Customer</td>\n",
       "      <td>92.00</td>\n",
       "      <td>98.00</td>\n",
       "      <td>92.66</td>\n",
       "      <td>1</td>\n",
       "      <td>[Bundles, Cross sell, Free Shipping]</td>\n",
       "    </tr>\n",
       "    <tr>\n",
       "      <th>2</th>\n",
       "      <td>New Big Spenders</td>\n",
       "      <td>191.81</td>\n",
       "      <td>13.88</td>\n",
       "      <td>2228.96</td>\n",
       "      <td>26</td>\n",
       "      <td>[Personalized Email, Upsell expensive item, En...</td>\n",
       "    </tr>\n",
       "    <tr>\n",
       "      <th>3</th>\n",
       "      <td>Potential Loyalists</td>\n",
       "      <td>90.28</td>\n",
       "      <td>82.62</td>\n",
       "      <td>259.54</td>\n",
       "      <td>3156</td>\n",
       "      <td>[Cross Sell Recommendations, Discount and coup...</td>\n",
       "    </tr>\n",
       "    <tr>\n",
       "      <th>4</th>\n",
       "      <td>VIP</td>\n",
       "      <td>107.89</td>\n",
       "      <td>92.81</td>\n",
       "      <td>347.55</td>\n",
       "      <td>779</td>\n",
       "      <td>[Rewards, Loyality Programs, Exclusive offers]</td>\n",
       "    </tr>\n",
       "    <tr>\n",
       "      <th>5</th>\n",
       "      <td>VVIP</td>\n",
       "      <td>167.84</td>\n",
       "      <td>142.42</td>\n",
       "      <td>522.34</td>\n",
       "      <td>147</td>\n",
       "      <td>[Special Rewards, Loyality Programs, Exclusive...</td>\n",
       "    </tr>\n",
       "  </tbody>\n",
       "</table>\n",
       "</div>"
      ],
      "text/plain": [
       "                         RFM_Segment Recency Frequency Monetary        \\\n",
       "                                        mean      mean     mean count   \n",
       "0               Disengaged Customers   14.86     12.14    32.09   242   \n",
       "1  Lower spending but Loyal Customer   92.00     98.00    92.66     1   \n",
       "2                   New Big Spenders  191.81     13.88  2228.96    26   \n",
       "3                Potential Loyalists   90.28     82.62   259.54  3156   \n",
       "4                                VIP  107.89     92.81   347.55   779   \n",
       "5                               VVIP  167.84    142.42   522.34   147   \n",
       "\n",
       "                                    Marketing_Action  \n",
       "                                              unique  \n",
       "0                           [Re-engagement Campaign]  \n",
       "1               [Bundles, Cross sell, Free Shipping]  \n",
       "2  [Personalized Email, Upsell expensive item, En...  \n",
       "3  [Cross Sell Recommendations, Discount and coup...  \n",
       "4     [Rewards, Loyality Programs, Exclusive offers]  \n",
       "5  [Special Rewards, Loyality Programs, Exclusive...  "
      ]
     },
     "execution_count": 42,
     "metadata": {},
     "output_type": "execute_result"
    }
   ],
   "source": [
    "new_rfm_level_agg"
   ]
  },
  {
   "cell_type": "markdown",
   "id": "701a1207",
   "metadata": {},
   "source": [
    "Future Work: \n",
    "1. Export to the csv file. Connect to Tableau and creat interact dashboard\n",
    "\n",
    "2. we can desing a system and help company automatically calculated customer's values and conduct customer segmentation if needed. \n"
   ]
  },
  {
   "cell_type": "markdown",
   "id": "53375f28",
   "metadata": {},
   "source": [
    "## K-Mean clustering \n",
    "#### Check if there is any hidden segments we can find from clusters"
   ]
  },
  {
   "cell_type": "code",
   "execution_count": 44,
   "id": "a5a3abed",
   "metadata": {},
   "outputs": [],
   "source": [
    "import numpy as np\n",
    "from sklearn.preprocessing import StandardScaler\n",
    "from sklearn.cluster import KMeans"
   ]
  },
  {
   "cell_type": "code",
   "execution_count": 45,
   "id": "8c9c65a9",
   "metadata": {},
   "outputs": [
    {
     "data": {
      "text/html": [
       "<div>\n",
       "<style scoped>\n",
       "    .dataframe tbody tr th:only-of-type {\n",
       "        vertical-align: middle;\n",
       "    }\n",
       "\n",
       "    .dataframe tbody tr th {\n",
       "        vertical-align: top;\n",
       "    }\n",
       "\n",
       "    .dataframe thead th {\n",
       "        text-align: right;\n",
       "    }\n",
       "</style>\n",
       "<table border=\"1\" class=\"dataframe\">\n",
       "  <thead>\n",
       "    <tr style=\"text-align: right;\">\n",
       "      <th></th>\n",
       "      <th>Recency</th>\n",
       "      <th>Frequency</th>\n",
       "      <th>Monetary</th>\n",
       "      <th>R</th>\n",
       "      <th>F</th>\n",
       "      <th>M</th>\n",
       "      <th>RFM_Class</th>\n",
       "      <th>RFM_Score</th>\n",
       "      <th>RFM_Segment</th>\n",
       "      <th>Marketing_Action</th>\n",
       "    </tr>\n",
       "    <tr>\n",
       "      <th>Customer ID</th>\n",
       "      <th></th>\n",
       "      <th></th>\n",
       "      <th></th>\n",
       "      <th></th>\n",
       "      <th></th>\n",
       "      <th></th>\n",
       "      <th></th>\n",
       "      <th></th>\n",
       "      <th></th>\n",
       "      <th></th>\n",
       "    </tr>\n",
       "  </thead>\n",
       "  <tbody>\n",
       "    <tr>\n",
       "      <th>12346.0</th>\n",
       "      <td>326</td>\n",
       "      <td>2</td>\n",
       "      <td>2.08</td>\n",
       "      <td>5</td>\n",
       "      <td>1</td>\n",
       "      <td>1</td>\n",
       "      <td>511</td>\n",
       "      <td>7.0</td>\n",
       "      <td>Potential Loyalists</td>\n",
       "      <td>Cross Sell Recommendations, Discount and coupons</td>\n",
       "    </tr>\n",
       "    <tr>\n",
       "      <th>12347.0</th>\n",
       "      <td>2</td>\n",
       "      <td>182</td>\n",
       "      <td>481.21</td>\n",
       "      <td>1</td>\n",
       "      <td>5</td>\n",
       "      <td>5</td>\n",
       "      <td>155</td>\n",
       "      <td>11.0</td>\n",
       "      <td>Potential Loyalists</td>\n",
       "      <td>Cross Sell Recommendations, Discount and coupons</td>\n",
       "    </tr>\n",
       "    <tr>\n",
       "      <th>12348.0</th>\n",
       "      <td>75</td>\n",
       "      <td>31</td>\n",
       "      <td>178.71</td>\n",
       "      <td>4</td>\n",
       "      <td>3</td>\n",
       "      <td>3</td>\n",
       "      <td>433</td>\n",
       "      <td>10.0</td>\n",
       "      <td>VIP</td>\n",
       "      <td>Rewards, Loyality Programs, Exclusive offers</td>\n",
       "    </tr>\n",
       "    <tr>\n",
       "      <th>12349.0</th>\n",
       "      <td>19</td>\n",
       "      <td>73</td>\n",
       "      <td>605.10</td>\n",
       "      <td>2</td>\n",
       "      <td>4</td>\n",
       "      <td>5</td>\n",
       "      <td>245</td>\n",
       "      <td>11.0</td>\n",
       "      <td>Potential Loyalists</td>\n",
       "      <td>Cross Sell Recommendations, Discount and coupons</td>\n",
       "    </tr>\n",
       "    <tr>\n",
       "      <th>12350.0</th>\n",
       "      <td>310</td>\n",
       "      <td>17</td>\n",
       "      <td>65.30</td>\n",
       "      <td>5</td>\n",
       "      <td>2</td>\n",
       "      <td>2</td>\n",
       "      <td>522</td>\n",
       "      <td>9.0</td>\n",
       "      <td>Potential Loyalists</td>\n",
       "      <td>Cross Sell Recommendations, Discount and coupons</td>\n",
       "    </tr>\n",
       "  </tbody>\n",
       "</table>\n",
       "</div>"
      ],
      "text/plain": [
       "             Recency  Frequency  Monetary  R  F  M  RFM_Class  RFM_Score  \\\n",
       "Customer ID                                                                \n",
       "12346.0          326          2      2.08  5  1  1        511        7.0   \n",
       "12347.0            2        182    481.21  1  5  5        155       11.0   \n",
       "12348.0           75         31    178.71  4  3  3        433       10.0   \n",
       "12349.0           19         73    605.10  2  4  5        245       11.0   \n",
       "12350.0          310         17     65.30  5  2  2        522        9.0   \n",
       "\n",
       "                     RFM_Segment  \\\n",
       "Customer ID                        \n",
       "12346.0      Potential Loyalists   \n",
       "12347.0      Potential Loyalists   \n",
       "12348.0                      VIP   \n",
       "12349.0      Potential Loyalists   \n",
       "12350.0      Potential Loyalists   \n",
       "\n",
       "                                             Marketing_Action  \n",
       "Customer ID                                                    \n",
       "12346.0      Cross Sell Recommendations, Discount and coupons  \n",
       "12347.0      Cross Sell Recommendations, Discount and coupons  \n",
       "12348.0          Rewards, Loyality Programs, Exclusive offers  \n",
       "12349.0      Cross Sell Recommendations, Discount and coupons  \n",
       "12350.0      Cross Sell Recommendations, Discount and coupons  "
      ]
     },
     "execution_count": 45,
     "metadata": {},
     "output_type": "execute_result"
    }
   ],
   "source": [
    "new_rfm_df.head()"
   ]
  },
  {
   "cell_type": "code",
   "execution_count": 46,
   "id": "a562c07c",
   "metadata": {},
   "outputs": [
    {
     "data": {
      "text/html": [
       "<div>\n",
       "<style scoped>\n",
       "    .dataframe tbody tr th:only-of-type {\n",
       "        vertical-align: middle;\n",
       "    }\n",
       "\n",
       "    .dataframe tbody tr th {\n",
       "        vertical-align: top;\n",
       "    }\n",
       "\n",
       "    .dataframe thead th {\n",
       "        text-align: right;\n",
       "    }\n",
       "</style>\n",
       "<table border=\"1\" class=\"dataframe\">\n",
       "  <thead>\n",
       "    <tr style=\"text-align: right;\">\n",
       "      <th></th>\n",
       "      <th>Recency</th>\n",
       "      <th>Frequency</th>\n",
       "      <th>Monetary</th>\n",
       "      <th>R</th>\n",
       "      <th>F</th>\n",
       "      <th>M</th>\n",
       "      <th>RFM_Class</th>\n",
       "      <th>RFM_Score</th>\n",
       "      <th>RFM_Segment</th>\n",
       "      <th>Marketing_Action</th>\n",
       "    </tr>\n",
       "    <tr>\n",
       "      <th>Customer ID</th>\n",
       "      <th></th>\n",
       "      <th></th>\n",
       "      <th></th>\n",
       "      <th></th>\n",
       "      <th></th>\n",
       "      <th></th>\n",
       "      <th></th>\n",
       "      <th></th>\n",
       "      <th></th>\n",
       "      <th></th>\n",
       "    </tr>\n",
       "  </thead>\n",
       "  <tbody>\n",
       "    <tr>\n",
       "      <th>12536.0</th>\n",
       "      <td>8</td>\n",
       "      <td>273</td>\n",
       "      <td>13255.22</td>\n",
       "      <td>1</td>\n",
       "      <td>5</td>\n",
       "      <td>5</td>\n",
       "      <td>155</td>\n",
       "      <td>11.0</td>\n",
       "      <td>Potential Loyalists</td>\n",
       "      <td>Cross Sell Recommendations, Discount and coupons</td>\n",
       "    </tr>\n",
       "    <tr>\n",
       "      <th>12744.0</th>\n",
       "      <td>52</td>\n",
       "      <td>229</td>\n",
       "      <td>25108.89</td>\n",
       "      <td>3</td>\n",
       "      <td>5</td>\n",
       "      <td>5</td>\n",
       "      <td>355</td>\n",
       "      <td>13.0</td>\n",
       "      <td>VIP</td>\n",
       "      <td>Rewards, Loyality Programs, Exclusive offers</td>\n",
       "    </tr>\n",
       "    <tr>\n",
       "      <th>15098.0</th>\n",
       "      <td>182</td>\n",
       "      <td>5</td>\n",
       "      <td>40278.90</td>\n",
       "      <td>5</td>\n",
       "      <td>1</td>\n",
       "      <td>5</td>\n",
       "      <td>515</td>\n",
       "      <td>11.0</td>\n",
       "      <td>New Big Spenders</td>\n",
       "      <td>Personalized Email, Upsell expensive item, Enr...</td>\n",
       "    </tr>\n",
       "    <tr>\n",
       "      <th>16029.0</th>\n",
       "      <td>39</td>\n",
       "      <td>274</td>\n",
       "      <td>24111.14</td>\n",
       "      <td>3</td>\n",
       "      <td>5</td>\n",
       "      <td>5</td>\n",
       "      <td>355</td>\n",
       "      <td>13.0</td>\n",
       "      <td>VIP</td>\n",
       "      <td>Rewards, Loyality Programs, Exclusive offers</td>\n",
       "    </tr>\n",
       "  </tbody>\n",
       "</table>\n",
       "</div>"
      ],
      "text/plain": [
       "             Recency  Frequency  Monetary  R  F  M  RFM_Class  RFM_Score  \\\n",
       "Customer ID                                                                \n",
       "12536.0            8        273  13255.22  1  5  5        155       11.0   \n",
       "12744.0           52        229  25108.89  3  5  5        355       13.0   \n",
       "15098.0          182          5  40278.90  5  1  5        515       11.0   \n",
       "16029.0           39        274  24111.14  3  5  5        355       13.0   \n",
       "\n",
       "                     RFM_Segment  \\\n",
       "Customer ID                        \n",
       "12536.0      Potential Loyalists   \n",
       "12744.0                      VIP   \n",
       "15098.0         New Big Spenders   \n",
       "16029.0                      VIP   \n",
       "\n",
       "                                              Marketing_Action  \n",
       "Customer ID                                                     \n",
       "12536.0       Cross Sell Recommendations, Discount and coupons  \n",
       "12744.0           Rewards, Loyality Programs, Exclusive offers  \n",
       "15098.0      Personalized Email, Upsell expensive item, Enr...  \n",
       "16029.0           Rewards, Loyality Programs, Exclusive offers  "
      ]
     },
     "execution_count": 46,
     "metadata": {},
     "output_type": "execute_result"
    }
   ],
   "source": [
    "new_rfm_df[new_rfm_df['Monetary'] >= 10000]"
   ]
  },
  {
   "cell_type": "code",
   "execution_count": 47,
   "id": "f4f8b3e4",
   "metadata": {},
   "outputs": [
    {
     "data": {
      "text/plain": [
       "Recency      1.0\n",
       "Frequency    1.0\n",
       "Monetary     0.0\n",
       "dtype: float64"
      ]
     },
     "execution_count": 47,
     "metadata": {},
     "output_type": "execute_result"
    }
   ],
   "source": [
    "rfm = new_rfm_df[['Recency', 'Frequency', 'Monetary']]\n",
    "rfm.min()"
   ]
  },
  {
   "cell_type": "code",
   "execution_count": 49,
   "id": "2f867362",
   "metadata": {},
   "outputs": [
    {
     "data": {
      "text/html": [
       "<div>\n",
       "<style scoped>\n",
       "    .dataframe tbody tr th:only-of-type {\n",
       "        vertical-align: middle;\n",
       "    }\n",
       "\n",
       "    .dataframe tbody tr th {\n",
       "        vertical-align: top;\n",
       "    }\n",
       "\n",
       "    .dataframe thead th {\n",
       "        text-align: right;\n",
       "    }\n",
       "</style>\n",
       "<table border=\"1\" class=\"dataframe\">\n",
       "  <thead>\n",
       "    <tr style=\"text-align: right;\">\n",
       "      <th></th>\n",
       "      <th>Recency</th>\n",
       "      <th>Frequency</th>\n",
       "      <th>Monetary</th>\n",
       "    </tr>\n",
       "    <tr>\n",
       "      <th>Customer ID</th>\n",
       "      <th></th>\n",
       "      <th></th>\n",
       "      <th></th>\n",
       "    </tr>\n",
       "  </thead>\n",
       "  <tbody>\n",
       "    <tr>\n",
       "      <th>12346.0</th>\n",
       "      <td>2.316481</td>\n",
       "      <td>-0.713595</td>\n",
       "      <td>-0.305567</td>\n",
       "    </tr>\n",
       "    <tr>\n",
       "      <th>12347.0</th>\n",
       "      <td>-0.897384</td>\n",
       "      <td>0.889231</td>\n",
       "      <td>0.215120</td>\n",
       "    </tr>\n",
       "    <tr>\n",
       "      <th>12348.0</th>\n",
       "      <td>-0.173273</td>\n",
       "      <td>-0.455362</td>\n",
       "      <td>-0.113617</td>\n",
       "    </tr>\n",
       "    <tr>\n",
       "      <th>12349.0</th>\n",
       "      <td>-0.728755</td>\n",
       "      <td>-0.081369</td>\n",
       "      <td>0.349756</td>\n",
       "    </tr>\n",
       "    <tr>\n",
       "      <th>12350.0</th>\n",
       "      <td>2.157771</td>\n",
       "      <td>-0.580027</td>\n",
       "      <td>-0.236864</td>\n",
       "    </tr>\n",
       "  </tbody>\n",
       "</table>\n",
       "</div>"
      ],
      "text/plain": [
       "              Recency  Frequency  Monetary\n",
       "Customer ID                               \n",
       "12346.0      2.316481  -0.713595 -0.305567\n",
       "12347.0     -0.897384   0.889231  0.215120\n",
       "12348.0     -0.173273  -0.455362 -0.113617\n",
       "12349.0     -0.728755  -0.081369  0.349756\n",
       "12350.0      2.157771  -0.580027 -0.236864"
      ]
     },
     "execution_count": 49,
     "metadata": {},
     "output_type": "execute_result"
    }
   ],
   "source": [
    "standardizer = StandardScaler()\n",
    "rfm_s = standardizer.fit_transform(rfm)\n",
    "rfm_s_df = pd.DataFrame(data=rfm_s, index=rfm.index, columns=rfm.columns)\n",
    "rfm_s_df.head()"
   ]
  },
  {
   "cell_type": "markdown",
   "id": "aa88e7b2",
   "metadata": {},
   "source": [
    "To find which K value is more suitable for our data we will use elbow method."
   ]
  },
  {
   "cell_type": "code",
   "execution_count": 50,
   "id": "677d6b08",
   "metadata": {},
   "outputs": [
    {
     "data": {
      "image/png": "[encoded data removed]",
      "text/plain": [
       "<Figure size 720x288 with 1 Axes>"
      ]
     },
     "metadata": {
      "needs_background": "light"
     },
     "output_type": "display_data"
    }
   ],
   "source": [
    "sse = []\n",
    "for k in range(1, 10):\n",
    "    km = KMeans(n_clusters = k, random_state=1)\n",
    "    km.fit(rfm_s)\n",
    "    sse.append(km.inertia_)\n",
    "\n",
    "plt.figure(figsize=(10, 4))\n",
    "plt.plot(range(1,10), sse, c=\"#c51b7d\")\n",
    "plt.gca().spines[\"top\"].set_visible(False)\n",
    "plt.gca().spines[\"right\"].set_visible(False)\n",
    "plt.title('Elbow Method', size=14)\n",
    "plt.xlabel('Number of clusters', size=12)\n",
    "plt.ylabel('sse', size=14)\n",
    "plt.show()"
   ]
  },
  {
   "cell_type": "code",
   "execution_count": null,
   "id": "371a1ee7",
   "metadata": {},
   "outputs": [],
   "source": []
  },
  {
   "cell_type": "code",
   "execution_count": 51,
   "id": "8bbb8e81",
   "metadata": {},
   "outputs": [
    {
     "data": {
      "text/html": [
       "<div>\n",
       "<style scoped>\n",
       "    .dataframe tbody tr th:only-of-type {\n",
       "        vertical-align: middle;\n",
       "    }\n",
       "\n",
       "    .dataframe tbody tr th {\n",
       "        vertical-align: top;\n",
       "    }\n",
       "\n",
       "    .dataframe thead tr th {\n",
       "        text-align: left;\n",
       "    }\n",
       "\n",
       "    .dataframe thead tr:last-of-type th {\n",
       "        text-align: right;\n",
       "    }\n",
       "</style>\n",
       "<table border=\"1\" class=\"dataframe\">\n",
       "  <thead>\n",
       "    <tr>\n",
       "      <th></th>\n",
       "      <th>Recency</th>\n",
       "      <th>Frequency</th>\n",
       "      <th colspan=\"2\" halign=\"left\">Monetary</th>\n",
       "    </tr>\n",
       "    <tr>\n",
       "      <th></th>\n",
       "      <th>mean</th>\n",
       "      <th>mean</th>\n",
       "      <th>mean</th>\n",
       "      <th>count</th>\n",
       "    </tr>\n",
       "    <tr>\n",
       "      <th>Cluster</th>\n",
       "      <th></th>\n",
       "      <th></th>\n",
       "      <th></th>\n",
       "      <th></th>\n",
       "    </tr>\n",
       "  </thead>\n",
       "  <tbody>\n",
       "    <tr>\n",
       "      <th>0</th>\n",
       "      <td>44.4</td>\n",
       "      <td>64.2</td>\n",
       "      <td>203.6</td>\n",
       "      <td>2906</td>\n",
       "    </tr>\n",
       "    <tr>\n",
       "      <th>1</th>\n",
       "      <td>19.2</td>\n",
       "      <td>375.1</td>\n",
       "      <td>1184.8</td>\n",
       "      <td>380</td>\n",
       "    </tr>\n",
       "    <tr>\n",
       "      <th>2</th>\n",
       "      <td>250.2</td>\n",
       "      <td>26.2</td>\n",
       "      <td>95.1</td>\n",
       "      <td>1062</td>\n",
       "    </tr>\n",
       "    <tr>\n",
       "      <th>3</th>\n",
       "      <td>91.0</td>\n",
       "      <td>169.3</td>\n",
       "      <td>29833.0</td>\n",
       "      <td>3</td>\n",
       "    </tr>\n",
       "  </tbody>\n",
       "</table>\n",
       "</div>"
      ],
      "text/plain": [
       "        Recency Frequency Monetary      \n",
       "           mean      mean     mean count\n",
       "Cluster                                 \n",
       "0          44.4      64.2    203.6  2906\n",
       "1          19.2     375.1   1184.8   380\n",
       "2         250.2      26.2     95.1  1062\n",
       "3          91.0     169.3  29833.0     3"
      ]
     },
     "execution_count": 51,
     "metadata": {},
     "output_type": "execute_result"
    }
   ],
   "source": [
    "# 4 clusters\n",
    "\n",
    "kmeans = KMeans(n_clusters=4, random_state=1) \n",
    "kmeans.fit(rfm_s)\n",
    "cluster_labels = kmeans.labels_\n",
    "rfm_s_k4 = rfm.assign(Cluster=cluster_labels)\n",
    "grouped = rfm_s_k4.groupby(['Cluster'])\n",
    "grouped.agg({\n",
    "    'Recency': 'mean',\n",
    "    'Frequency': 'mean',\n",
    "    'Monetary': ['mean', 'count']\n",
    "  }).round(1)"
   ]
  },
  {
   "cell_type": "code",
   "execution_count": 52,
   "id": "3217df8f",
   "metadata": {},
   "outputs": [
    {
     "data": {
      "text/html": [
       "<div>\n",
       "<style scoped>\n",
       "    .dataframe tbody tr th:only-of-type {\n",
       "        vertical-align: middle;\n",
       "    }\n",
       "\n",
       "    .dataframe tbody tr th {\n",
       "        vertical-align: top;\n",
       "    }\n",
       "\n",
       "    .dataframe thead tr th {\n",
       "        text-align: left;\n",
       "    }\n",
       "\n",
       "    .dataframe thead tr:last-of-type th {\n",
       "        text-align: right;\n",
       "    }\n",
       "</style>\n",
       "<table border=\"1\" class=\"dataframe\">\n",
       "  <thead>\n",
       "    <tr>\n",
       "      <th></th>\n",
       "      <th>Recency</th>\n",
       "      <th>Frequency</th>\n",
       "      <th colspan=\"2\" halign=\"left\">Monetary</th>\n",
       "    </tr>\n",
       "    <tr>\n",
       "      <th></th>\n",
       "      <th>mean</th>\n",
       "      <th>mean</th>\n",
       "      <th>mean</th>\n",
       "      <th>count</th>\n",
       "    </tr>\n",
       "    <tr>\n",
       "      <th>Cluster</th>\n",
       "      <th></th>\n",
       "      <th></th>\n",
       "      <th></th>\n",
       "      <th></th>\n",
       "    </tr>\n",
       "  </thead>\n",
       "  <tbody>\n",
       "    <tr>\n",
       "      <th>0</th>\n",
       "      <td>47.9</td>\n",
       "      <td>46.9</td>\n",
       "      <td>148.4</td>\n",
       "      <td>2505</td>\n",
       "    </tr>\n",
       "    <tr>\n",
       "      <th>1</th>\n",
       "      <td>252.1</td>\n",
       "      <td>26.5</td>\n",
       "      <td>95.8</td>\n",
       "      <td>1045</td>\n",
       "    </tr>\n",
       "    <tr>\n",
       "      <th>2</th>\n",
       "      <td>91.0</td>\n",
       "      <td>169.3</td>\n",
       "      <td>29833.0</td>\n",
       "      <td>3</td>\n",
       "    </tr>\n",
       "    <tr>\n",
       "      <th>3</th>\n",
       "      <td>13.0</td>\n",
       "      <td>525.9</td>\n",
       "      <td>1697.5</td>\n",
       "      <td>143</td>\n",
       "    </tr>\n",
       "    <tr>\n",
       "      <th>4</th>\n",
       "      <td>25.6</td>\n",
       "      <td>208.5</td>\n",
       "      <td>654.0</td>\n",
       "      <td>655</td>\n",
       "    </tr>\n",
       "  </tbody>\n",
       "</table>\n",
       "</div>"
      ],
      "text/plain": [
       "        Recency Frequency Monetary      \n",
       "           mean      mean     mean count\n",
       "Cluster                                 \n",
       "0          47.9      46.9    148.4  2505\n",
       "1         252.1      26.5     95.8  1045\n",
       "2          91.0     169.3  29833.0     3\n",
       "3          13.0     525.9   1697.5   143\n",
       "4          25.6     208.5    654.0   655"
      ]
     },
     "execution_count": 52,
     "metadata": {},
     "output_type": "execute_result"
    }
   ],
   "source": [
    "# 5 clusters\n",
    "\n",
    "kmeans = KMeans(n_clusters=5, random_state=1) \n",
    "kmeans.fit(rfm_s)\n",
    "centers = kmeans.cluster_centers_\n",
    "cluster_labels = kmeans.labels_\n",
    "rfm_s_k5 = rfm.assign(Cluster=cluster_labels)\n",
    "grouped = rfm_s_k5.groupby(['Cluster'])\n",
    "grouped.agg({\n",
    "    'Recency': 'mean',\n",
    "    'Frequency': 'mean',\n",
    "    'Monetary': ['mean', 'count']\n",
    "  }).round(1)"
   ]
  },
  {
   "cell_type": "code",
   "execution_count": 53,
   "id": "dd1d0c4d",
   "metadata": {},
   "outputs": [
    {
     "data": {
      "text/plain": [
       "<mpl_toolkits.mplot3d.art3d.Path3DCollection at 0x7fcd5a194e80>"
      ]
     },
     "execution_count": 53,
     "metadata": {},
     "output_type": "execute_result"
    },
    {
     "data": {
      "image/png": "[encoded data removed]",
      "text/plain": [
       "<Figure size 720x576 with 1 Axes>"
      ]
     },
     "metadata": {
      "needs_background": "light"
     },
     "output_type": "display_data"
    }
   ],
   "source": [
    "# 3d plot\n",
    "\n",
    "fig = plt.figure(figsize=(10,8))\n",
    "ax = fig.add_subplot(111, projection='3d')\n",
    "\n",
    "ax.scatter(rfm_s_k4['Recency'], rfm_s_k4['Frequency'], rfm_s_k4['Monetary'], cmap=\"brg\", c=rfm_s_k4['Cluster'])\n",
    "ax.set_xlabel('Recency')\n",
    "ax.set_ylabel('Frequency')\n",
    "ax.set_zlabel('Monetary')\n",
    "ax.scatter(centers[:, 0], centers[:, 1], marker='*', c='black')"
   ]
  },
  {
   "cell_type": "code",
   "execution_count": 54,
   "id": "4e04d3ac",
   "metadata": {},
   "outputs": [
    {
     "data": {
      "text/plain": [
       "<matplotlib.collections.PathCollection at 0x7fcd5a6fa970>"
      ]
     },
     "execution_count": 54,
     "metadata": {},
     "output_type": "execute_result"
    },
    {
     "data": {
      "image/png": "[encoded data removed]",
      "text/plain": [
       "<Figure size 432x288 with 1 Axes>"
      ]
     },
     "metadata": {
      "needs_background": "light"
     },
     "output_type": "display_data"
    }
   ],
   "source": [
    "plt.scatter(rfm_s_k4['Recency'], rfm_s_k4['Monetary'], c=rfm_s_k4['Cluster'], alpha = 0.6)"
   ]
  },
  {
   "cell_type": "code",
   "execution_count": 55,
   "id": "d596fc55",
   "metadata": {},
   "outputs": [
    {
     "data": {
      "text/html": [
       "<div>\n",
       "<style scoped>\n",
       "    .dataframe tbody tr th:only-of-type {\n",
       "        vertical-align: middle;\n",
       "    }\n",
       "\n",
       "    .dataframe tbody tr th {\n",
       "        vertical-align: top;\n",
       "    }\n",
       "\n",
       "    .dataframe thead th {\n",
       "        text-align: right;\n",
       "    }\n",
       "</style>\n",
       "<table border=\"1\" class=\"dataframe\">\n",
       "  <thead>\n",
       "    <tr style=\"text-align: right;\">\n",
       "      <th></th>\n",
       "      <th>Customer ID</th>\n",
       "      <th>Cluster</th>\n",
       "      <th>Metric</th>\n",
       "      <th>Value</th>\n",
       "    </tr>\n",
       "  </thead>\n",
       "  <tbody>\n",
       "    <tr>\n",
       "      <th>0</th>\n",
       "      <td>12346.0</td>\n",
       "      <td>2</td>\n",
       "      <td>Recency</td>\n",
       "      <td>326.0</td>\n",
       "    </tr>\n",
       "    <tr>\n",
       "      <th>1</th>\n",
       "      <td>12347.0</td>\n",
       "      <td>0</td>\n",
       "      <td>Recency</td>\n",
       "      <td>2.0</td>\n",
       "    </tr>\n",
       "    <tr>\n",
       "      <th>2</th>\n",
       "      <td>12348.0</td>\n",
       "      <td>0</td>\n",
       "      <td>Recency</td>\n",
       "      <td>75.0</td>\n",
       "    </tr>\n",
       "    <tr>\n",
       "      <th>3</th>\n",
       "      <td>12349.0</td>\n",
       "      <td>0</td>\n",
       "      <td>Recency</td>\n",
       "      <td>19.0</td>\n",
       "    </tr>\n",
       "    <tr>\n",
       "      <th>4</th>\n",
       "      <td>12350.0</td>\n",
       "      <td>2</td>\n",
       "      <td>Recency</td>\n",
       "      <td>310.0</td>\n",
       "    </tr>\n",
       "  </tbody>\n",
       "</table>\n",
       "</div>"
      ],
      "text/plain": [
       "  Customer ID  Cluster   Metric  Value\n",
       "0     12346.0        2  Recency  326.0\n",
       "1     12347.0        0  Recency    2.0\n",
       "2     12348.0        0  Recency   75.0\n",
       "3     12349.0        0  Recency   19.0\n",
       "4     12350.0        2  Recency  310.0"
      ]
     },
     "execution_count": 55,
     "metadata": {},
     "output_type": "execute_result"
    }
   ],
   "source": [
    "# pandas melt -> is one of the reshape function. from wide to long\n",
    "rfm_s_k4_melt = pd.melt(\n",
    "    rfm_s_k4.reset_index(),\n",
    "    id_vars=['Customer ID', 'Cluster'],\n",
    "    value_vars=['Recency', 'Frequency', 'Monetary'],\n",
    "    var_name='Metric', \n",
    "    value_name='Value'\n",
    ")\n",
    "\n",
    "rfm_s_k4_melt.head()"
   ]
  },
  {
   "cell_type": "code",
   "execution_count": 56,
   "id": "ac2ddc5f",
   "metadata": {},
   "outputs": [
    {
     "name": "stderr",
     "output_type": "stream",
     "text": [
      "/Users/chenyenchun/opt/anaconda3/lib/python3.8/site-packages/seaborn/_decorators.py:36: FutureWarning: Pass the following variables as keyword args: x, y. From version 0.12, the only valid positional argument will be `data`, and passing other arguments without an explicit keyword will result in an error or misinterpretation.\n",
      "  warnings.warn(\n"
     ]
    },
    {
     "data": {
      "text/plain": [
       "[None, None]"
      ]
     },
     "execution_count": 56,
     "metadata": {},
     "output_type": "execute_result"
    },
    {
     "data": {
      "image/png": "[encoded data removed]",
      "text/plain": [
       "<Figure size 1152x648 with 1 Axes>"
      ]
     },
     "metadata": {
      "needs_background": "light"
     },
     "output_type": "display_data"
    }
   ],
   "source": [
    "plt.figure(figsize=(16, 9))\n",
    "plt.xlabel('Metric')\n",
    "plt.ylabel('Value')\n",
    "ax = sns.lineplot('Metric', 'Value', hue='Cluster', data=rfm_s_k4_melt)\n",
    "plt.ylim(0, 2000)\n",
    "plt.setp(ax.get_legend().get_texts(), fontsize='16')\n",
    "plt.setp(ax.get_legend().get_title(), fontsize='16')"
   ]
  },
  {
   "cell_type": "code",
   "execution_count": 57,
   "id": "f77d2c1c",
   "metadata": {},
   "outputs": [
    {
     "data": {
      "text/html": [
       "<div>\n",
       "<style scoped>\n",
       "    .dataframe tbody tr th:only-of-type {\n",
       "        vertical-align: middle;\n",
       "    }\n",
       "\n",
       "    .dataframe tbody tr th {\n",
       "        vertical-align: top;\n",
       "    }\n",
       "\n",
       "    .dataframe thead tr th {\n",
       "        text-align: left;\n",
       "    }\n",
       "\n",
       "    .dataframe thead tr:last-of-type th {\n",
       "        text-align: right;\n",
       "    }\n",
       "</style>\n",
       "<table border=\"1\" class=\"dataframe\">\n",
       "  <thead>\n",
       "    <tr>\n",
       "      <th></th>\n",
       "      <th>Recency</th>\n",
       "      <th>Frequency</th>\n",
       "      <th colspan=\"2\" halign=\"left\">Monetary</th>\n",
       "    </tr>\n",
       "    <tr>\n",
       "      <th></th>\n",
       "      <th>mean</th>\n",
       "      <th>mean</th>\n",
       "      <th>mean</th>\n",
       "      <th>count</th>\n",
       "    </tr>\n",
       "    <tr>\n",
       "      <th>Cluster</th>\n",
       "      <th></th>\n",
       "      <th></th>\n",
       "      <th></th>\n",
       "      <th></th>\n",
       "    </tr>\n",
       "  </thead>\n",
       "  <tbody>\n",
       "    <tr>\n",
       "      <th>0</th>\n",
       "      <td>44.4</td>\n",
       "      <td>64.2</td>\n",
       "      <td>203.6</td>\n",
       "      <td>2906</td>\n",
       "    </tr>\n",
       "    <tr>\n",
       "      <th>1</th>\n",
       "      <td>19.2</td>\n",
       "      <td>375.1</td>\n",
       "      <td>1184.8</td>\n",
       "      <td>380</td>\n",
       "    </tr>\n",
       "    <tr>\n",
       "      <th>2</th>\n",
       "      <td>250.2</td>\n",
       "      <td>26.2</td>\n",
       "      <td>95.1</td>\n",
       "      <td>1062</td>\n",
       "    </tr>\n",
       "    <tr>\n",
       "      <th>3</th>\n",
       "      <td>91.0</td>\n",
       "      <td>169.3</td>\n",
       "      <td>29833.0</td>\n",
       "      <td>3</td>\n",
       "    </tr>\n",
       "  </tbody>\n",
       "</table>\n",
       "</div>"
      ],
      "text/plain": [
       "        Recency Frequency Monetary      \n",
       "           mean      mean     mean count\n",
       "Cluster                                 \n",
       "0          44.4      64.2    203.6  2906\n",
       "1          19.2     375.1   1184.8   380\n",
       "2         250.2      26.2     95.1  1062\n",
       "3          91.0     169.3  29833.0     3"
      ]
     },
     "execution_count": 57,
     "metadata": {},
     "output_type": "execute_result"
    }
   ],
   "source": [
    "grouped_k4 = rfm_s_k4.groupby(['Cluster']).agg({\n",
    "    'Recency': 'mean',\n",
    "    'Frequency': 'mean',\n",
    "    'Monetary': ['mean', 'count']\n",
    "  }).round(1)\n",
    "grouped_k4"
   ]
  },
  {
   "cell_type": "markdown",
   "id": "956c0231",
   "metadata": {},
   "source": [
    "In the line chart above, most of the Monetary is over 10000 which make the chart hard to see. Hence, I limit ylim to help us have a better understanding of the R and F value.\n",
    "\n",
    "From the line plots and statistics summary, cluster 3 is the most valuable group of customers with highest M(high purchase amount), second highest F(purchase most often), and the third lowest R(has recently pruchase from the company). Cluster 1 also has a good purchase behavior with the\n",
    "\n"
   ]
  },
  {
   "cell_type": "markdown",
   "id": "04b7b26c",
   "metadata": {},
   "source": [
    "### Calculate relative importance of each attribute across the clusters"
   ]
  },
  {
   "cell_type": "code",
   "execution_count": 58,
   "id": "0926f430",
   "metadata": {
    "scrolled": false
   },
   "outputs": [],
   "source": [
    "# new_rfm_df.head()"
   ]
  },
  {
   "cell_type": "code",
   "execution_count": 59,
   "id": "54adab9e",
   "metadata": {
    "scrolled": false
   },
   "outputs": [],
   "source": [
    "# sns.heatmap(new_rfm_df.iloc[:, 3:6].astype(int).corr())"
   ]
  },
  {
   "cell_type": "code",
   "execution_count": 60,
   "id": "89b434cd",
   "metadata": {},
   "outputs": [],
   "source": [
    "cluster_avg = rfm_s_k4.groupby(['Cluster']).mean()\n",
    "population_avg = rfm.mean()"
   ]
  },
  {
   "cell_type": "code",
   "execution_count": 61,
   "id": "d5209114",
   "metadata": {},
   "outputs": [
    {
     "data": {
      "text/html": [
       "<div>\n",
       "<style scoped>\n",
       "    .dataframe tbody tr th:only-of-type {\n",
       "        vertical-align: middle;\n",
       "    }\n",
       "\n",
       "    .dataframe tbody tr th {\n",
       "        vertical-align: top;\n",
       "    }\n",
       "\n",
       "    .dataframe thead th {\n",
       "        text-align: right;\n",
       "    }\n",
       "</style>\n",
       "<table border=\"1\" class=\"dataframe\">\n",
       "  <thead>\n",
       "    <tr style=\"text-align: right;\">\n",
       "      <th></th>\n",
       "      <th>Recency</th>\n",
       "      <th>Frequency</th>\n",
       "      <th>Monetary</th>\n",
       "    </tr>\n",
       "    <tr>\n",
       "      <th>Cluster</th>\n",
       "      <th></th>\n",
       "      <th></th>\n",
       "      <th></th>\n",
       "    </tr>\n",
       "  </thead>\n",
       "  <tbody>\n",
       "    <tr>\n",
       "      <th>0</th>\n",
       "      <td>-0.52</td>\n",
       "      <td>-0.22</td>\n",
       "      <td>-0.28</td>\n",
       "    </tr>\n",
       "    <tr>\n",
       "      <th>1</th>\n",
       "      <td>-0.79</td>\n",
       "      <td>3.57</td>\n",
       "      <td>3.18</td>\n",
       "    </tr>\n",
       "    <tr>\n",
       "      <th>2</th>\n",
       "      <td>1.71</td>\n",
       "      <td>-0.68</td>\n",
       "      <td>-0.66</td>\n",
       "    </tr>\n",
       "    <tr>\n",
       "      <th>3</th>\n",
       "      <td>-0.02</td>\n",
       "      <td>1.06</td>\n",
       "      <td>104.32</td>\n",
       "    </tr>\n",
       "  </tbody>\n",
       "</table>\n",
       "</div>"
      ],
      "text/plain": [
       "         Recency  Frequency  Monetary\n",
       "Cluster                              \n",
       "0          -0.52      -0.22     -0.28\n",
       "1          -0.79       3.57      3.18\n",
       "2           1.71      -0.68     -0.66\n",
       "3          -0.02       1.06    104.32"
      ]
     },
     "execution_count": 61,
     "metadata": {},
     "output_type": "execute_result"
    }
   ],
   "source": [
    "relative_df = cluster_avg / population_avg - 1\n",
    "relative_df.round(2)"
   ]
  },
  {
   "cell_type": "code",
   "execution_count": 62,
   "id": "20e40a1a",
   "metadata": {},
   "outputs": [
    {
     "data": {
      "image/png": "[encoded data removed]",
      "text/plain": [
       "<Figure size 720x432 with 2 Axes>"
      ]
     },
     "metadata": {
      "needs_background": "light"
     },
     "output_type": "display_data"
    }
   ],
   "source": [
    "plt.figure(figsize=(10, 6))\n",
    "plt.title('Relative importance of attributes')\n",
    "sns.heatmap(data=relative_df, annot=True, fmt='.2f', cmap='RdYlGn')\n",
    "plt.show()"
   ]
  },
  {
   "cell_type": "markdown",
   "id": "0106e155",
   "metadata": {},
   "source": [
    "## Relative Importance of K-Mean Clusters\n",
    "\n",
    "#### Cluster 3 \n",
    "\n",
    "It has the highest highest M(high purchase amount), second highest F(purchase most often), and the third lowest R(has recently pruchase from the company).\n",
    "\n",
    "#### Cluster 1\n",
    "\n",
    "It also performs good since it has Second Highest M, lowest R, and Highest F."
   ]
  },
  {
   "cell_type": "code",
   "execution_count": null,
   "id": "07836228",
   "metadata": {},
   "outputs": [],
   "source": []
  }
 ],
 "metadata": {
  "kernelspec": {
   "display_name": "Python 3",
   "language": "python",
   "name": "python3"
  },
  "language_info": {
   "codemirror_mode": {
    "name": "ipython",
    "version": 3
   },
   "file_extension": ".py",
   "mimetype": "text/x-python",
   "name": "python",
   "nbconvert_exporter": "python",
   "pygments_lexer": "ipython3",
   "version": "3.8.8"
  }
 },
 "nbformat": 4,
 "nbformat_minor": 5
}
